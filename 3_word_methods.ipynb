{
 "cells": [
  {
   "attachments": {},
   "cell_type": "markdown",
   "metadata": {},
   "source": [
    "In this code we are going to assign a score to each comment, the two methods are lexicon based "
   ]
  },
  {
   "cell_type": "code",
   "execution_count": 1,
   "metadata": {},
   "outputs": [
    {
     "name": "stderr",
     "output_type": "stream",
     "text": [
      "[nltk_data] Downloading package vader_lexicon to\n",
      "[nltk_data]     C:\\Users\\User\\AppData\\Roaming\\nltk_data...\n",
      "[nltk_data]   Package vader_lexicon is already up-to-date!\n",
      "[nltk_data] Downloading package stopwords to\n",
      "[nltk_data]     C:\\Users\\User\\AppData\\Roaming\\nltk_data...\n",
      "[nltk_data]   Package stopwords is already up-to-date!\n"
     ]
    }
   ],
   "source": [
    "#import libraries\n",
    "import pandas as pd\n",
    "import matplotlib.pyplot as plt\n",
    "from collections import Counter\n",
    "import nltk\n",
    "from nltk.sentiment.vader import SentimentIntensityAnalyzer\n",
    "from nltk.corpus import stopwords\n",
    "nltk.download('vader_lexicon')\n",
    "nltk.download('stopwords')\n",
    "import numpy as np\n",
    "from textblob import TextBlob"
   ]
  },
  {
   "attachments": {},
   "cell_type": "markdown",
   "metadata": {},
   "source": [
    "# Lexicon based methods"
   ]
  },
  {
   "cell_type": "code",
   "execution_count": 2,
   "metadata": {},
   "outputs": [],
   "source": [
    "#import the dataset with all comments\n",
    "data1=pd.read_csv('data1final.csv')\n",
    "data1[\"comments\"] = data1['comments'].str.replace('[^\\w\\s]','')\n",
    "data1[list([type(data1.comments[i])==float for i in range(len(data1.comments))])]\n",
    "data1=data1.drop(data1[list([type(data1.comments[i])==float for i in range(len(data1.comments))])].index)"
   ]
  },
  {
   "cell_type": "code",
   "execution_count": null,
   "metadata": {},
   "outputs": [],
   "source": [
    "#initialize th analyzer\n",
    "analyzer = SentimentIntensityAnalyzer()"
   ]
  },
  {
   "cell_type": "code",
   "execution_count": null,
   "metadata": {},
   "outputs": [],
   "source": [
    "# initialize the analyzer positive score\n",
    "def pos_score(comment):\n",
    "  vs = analyzer.polarity_scores(comment)\n",
    "  return vs[\"pos\"] "
   ]
  },
  {
   "cell_type": "code",
   "execution_count": null,
   "metadata": {},
   "outputs": [],
   "source": [
    "# initialize the analyzer negative score\n",
    "def neg_score(comment):\n",
    "  vs = analyzer.polarity_scores(comment)\n",
    "  return vs[\"neg\"] "
   ]
  },
  {
   "cell_type": "code",
   "execution_count": null,
   "metadata": {},
   "outputs": [],
   "source": [
    "# compound polarity score with vader\n",
    "cs = []\n",
    "for row in range(len(data1)):\n",
    "  cs.append(analyzer.polarity_scores(data1['comments'].iloc[row])['compound'])\n",
    "data1[\"c_vader\"] = cs"
   ]
  },
  {
   "cell_type": "code",
   "execution_count": null,
   "metadata": {},
   "outputs": [],
   "source": [
    "#polarity score with textblob\n",
    "cs_blob = []\n",
    "for row in range(len(data1)):\n",
    "    cs_blob.append(TextBlob(data1['comments'].iloc[row]).sentiment.polarity)\n",
    "data1[\"c_textb\"] = cs_blob"
   ]
  },
  {
   "attachments": {},
   "cell_type": "markdown",
   "metadata": {},
   "source": [
    "## PLOTS"
   ]
  },
  {
   "cell_type": "code",
   "execution_count": null,
   "metadata": {},
   "outputs": [],
   "source": [
    "#positive distribution\n",
    "positive_sent=[]\n",
    "positive_sent.append(data1[\"comments\"].apply(lambda x : pos_score(x)))\n",
    "#observe the distribution of negative sentiment\n",
    "neg_sent=[]\n",
    "neg_sent.append(data1[\"comments\"].apply(lambda x : neg_score(x)))"
   ]
  },
  {
   "cell_type": "code",
   "execution_count": null,
   "metadata": {},
   "outputs": [],
   "source": [
    "plt.hist(positive_sent,bins=100)\n",
    "plt.title(\"Positive sentiment\")\n",
    "plt.xlim([0,1])\n",
    "plt.ylim([0,2000])\n",
    "plt.xlabel('Positive sentiment')\n",
    "plt.ylabel('Number of comments')\n",
    "plt.show()"
   ]
  },
  {
   "cell_type": "code",
   "execution_count": null,
   "metadata": {},
   "outputs": [],
   "source": [
    "plt.hist(neg_sent,bins=100)\n",
    "plt.title(\"Negative sentiment\")\n",
    "plt.xlim([0,1])\n",
    "plt.ylim([0,2000])\n",
    "plt.xlabel('Positive sentiment')\n",
    "plt.ylabel('Number of comments')\n",
    "plt.show()"
   ]
  },
  {
   "cell_type": "code",
   "execution_count": null,
   "metadata": {},
   "outputs": [],
   "source": [
    "plt.hist(cs,bins=100)\n",
    "plt.title(\"Compounded sentiment\")\n",
    "plt.xlim([-1,1])\n",
    "plt.ylim([0,2000])\n",
    "plt.xlabel('Positive sentiment')\n",
    "plt.ylabel('Number of comments')\n",
    "plt.show()"
   ]
  },
  {
   "cell_type": "code",
   "execution_count": null,
   "metadata": {},
   "outputs": [],
   "source": [
    "plt.hist(cs_blob,bins=100)\n",
    "plt.title(\"Blob_text sentiment\")\n",
    "plt.xlim([-1,1])\n",
    "plt.ylim([0,2000])\n",
    "plt.xlabel('Positive sentiment')\n",
    "plt.ylabel('Number of comments')\n",
    "plt.show()"
   ]
  },
  {
   "attachments": {},
   "cell_type": "markdown",
   "metadata": {},
   "source": [
    "Compare the 2 sentiment score"
   ]
  },
  {
   "cell_type": "code",
   "execution_count": null,
   "metadata": {},
   "outputs": [],
   "source": [
    "data1[\"cvadflag\"]=0\n",
    "data1[\"cvadflag\"][data1[\"c_vader\"]>0]=1\n",
    "data1[\"cvadflag\"][data1[\"c_vader\"]==0]=2\n",
    "data1[\"ctexflag\"]=0\n",
    "data1[\"ctexflag\"][data1[\"c_textb\"]>0]=1\n",
    "data1[\"ctexflag\"][data1[\"c_textb\"]==0]=2\n",
    "\n",
    "data1[\"compare_metrics\"]=False\n",
    "data1[\"compare_metrics\"][data1[\"ctexflag\"]==data1[\"cvadflag\"]]=True\n",
    "np.sum(data1[\"compare_metrics\"]==True)/len(data1[\"compare_metrics\"])"
   ]
  },
  {
   "cell_type": "code",
   "execution_count": null,
   "metadata": {},
   "outputs": [],
   "source": [
    "#save data in dataset\n",
    "data1.to_csv('data_with_scores.csv')"
   ]
  }
 ],
 "metadata": {
  "kernelspec": {
   "display_name": "Python 3",
   "language": "python",
   "name": "python3"
  },
  "language_info": {
   "codemirror_mode": {
    "name": "ipython",
    "version": 3
   },
   "file_extension": ".py",
   "mimetype": "text/x-python",
   "name": "python",
   "nbconvert_exporter": "python",
   "pygments_lexer": "ipython3",
   "version": "3.9.13"
  },
  "orig_nbformat": 4
 },
 "nbformat": 4,
 "nbformat_minor": 2
}
