{
 "cells": [
  {
   "cell_type": "code",
   "execution_count": 1,
   "metadata": {},
   "outputs": [],
   "source": [
    "import yfinance as yf\n",
    "import pandas as pd\n",
    "from datetime import datetime, timedelta\n",
    "import numpy as np\n",
    "import matplotlib.pyplot as plt\n",
    "import statsmodels.api as sm\n"
   ]
  },
  {
   "cell_type": "code",
   "execution_count": 2,
   "metadata": {},
   "outputs": [
    {
     "name": "stdout",
     "output_type": "stream",
     "text": [
      "Retrieved data for MMM\n",
      "Retrieved data for AOS\n",
      "Retrieved data for ABT\n",
      "Retrieved data for ABBV\n",
      "Retrieved data for ACN\n",
      "Retrieved data for ATVI\n",
      "Retrieved data for ADM\n",
      "Retrieved data for ADBE\n",
      "Retrieved data for ADP\n",
      "Retrieved data for AAP\n",
      "Retrieved data for AES\n",
      "Retrieved data for AFL\n",
      "Retrieved data for A\n",
      "Retrieved data for APD\n",
      "Retrieved data for AKAM\n",
      "Retrieved data for ALK\n",
      "Retrieved data for ALB\n",
      "Retrieved data for ARE\n",
      "Retrieved data for ALGN\n",
      "Retrieved data for ALLE\n",
      "Retrieved data for LNT\n",
      "Retrieved data for ALL\n",
      "Retrieved data for GOOGL\n",
      "Retrieved data for GOOG\n",
      "Retrieved data for MO\n",
      "Retrieved data for AMZN\n",
      "Retrieved data for AMCR\n",
      "Retrieved data for AMD\n",
      "Retrieved data for AEE\n",
      "Retrieved data for AAL\n",
      "Retrieved data for AEP\n",
      "Retrieved data for AXP\n",
      "Retrieved data for AIG\n",
      "Retrieved data for AMT\n",
      "Retrieved data for AWK\n",
      "Retrieved data for AMP\n",
      "Retrieved data for ABC\n",
      "Retrieved data for AME\n",
      "Retrieved data for AMGN\n",
      "Retrieved data for APH\n",
      "Retrieved data for ADI\n",
      "Retrieved data for ANSS\n",
      "Retrieved data for AON\n",
      "Retrieved data for APA\n",
      "Retrieved data for AAPL\n",
      "Retrieved data for AMAT\n",
      "Retrieved data for APTV\n",
      "Retrieved data for ACGL\n",
      "Retrieved data for ANET\n",
      "Retrieved data for AJG\n",
      "Retrieved data for AIZ\n",
      "Retrieved data for T\n",
      "Retrieved data for ATO\n",
      "Retrieved data for ADSK\n",
      "Retrieved data for AZO\n",
      "Retrieved data for AVB\n",
      "Retrieved data for AVY\n",
      "Retrieved data for AXON\n",
      "Retrieved data for BKR\n",
      "Retrieved data for BALL\n",
      "Retrieved data for BAC\n",
      "Retrieved data for BBWI\n",
      "Retrieved data for BAX\n",
      "Retrieved data for BDX\n",
      "Retrieved data for WRB\n",
      "Got error from yahoo api for ticker BRK.B, Error: {'code': 'Not Found', 'description': 'No data found, symbol may be delisted'}\n",
      "- BRK.B: No timezone found, symbol may be delisted\n",
      "No data available for BRK.B\n",
      "Retrieved data for BBY\n",
      "Retrieved data for BIO\n",
      "Retrieved data for TECH\n",
      "Retrieved data for BIIB\n",
      "Retrieved data for BLK\n",
      "Retrieved data for BK\n",
      "Retrieved data for BA\n",
      "Retrieved data for BKNG\n",
      "Retrieved data for BWA\n",
      "Retrieved data for BXP\n",
      "Retrieved data for BSX\n",
      "Retrieved data for BMY\n",
      "Retrieved data for AVGO\n",
      "Retrieved data for BR\n",
      "Retrieved data for BRO\n",
      "BF.B: No data found for this date range, symbol may be delisted\n",
      "No data available for BF.B\n",
      "Retrieved data for BG\n",
      "Retrieved data for CHRW\n",
      "Retrieved data for CDNS\n",
      "Retrieved data for CZR\n",
      "Retrieved data for CPT\n",
      "Retrieved data for CPB\n",
      "Retrieved data for COF\n",
      "Retrieved data for CAH\n",
      "Retrieved data for KMX\n",
      "Retrieved data for CCL\n",
      "Retrieved data for CARR\n",
      "Retrieved data for CTLT\n",
      "Retrieved data for CAT\n",
      "Retrieved data for CBOE\n",
      "Retrieved data for CBRE\n",
      "Retrieved data for CDW\n",
      "Retrieved data for CE\n",
      "Retrieved data for CNC\n",
      "Retrieved data for CNP\n",
      "Retrieved data for CDAY\n",
      "Retrieved data for CF\n",
      "Retrieved data for CRL\n",
      "Retrieved data for SCHW\n",
      "Retrieved data for CHTR\n",
      "Retrieved data for CVX\n",
      "Retrieved data for CMG\n",
      "Retrieved data for CB\n",
      "Retrieved data for CHD\n",
      "Retrieved data for CI\n",
      "Retrieved data for CINF\n",
      "Retrieved data for CTAS\n",
      "Retrieved data for CSCO\n",
      "Retrieved data for C\n",
      "Retrieved data for CFG\n",
      "Retrieved data for CLX\n",
      "Retrieved data for CME\n",
      "Retrieved data for CMS\n",
      "Retrieved data for KO\n",
      "Retrieved data for CTSH\n",
      "Retrieved data for CL\n",
      "Retrieved data for CMCSA\n",
      "Retrieved data for CMA\n",
      "Retrieved data for CAG\n",
      "Retrieved data for COP\n",
      "Retrieved data for ED\n",
      "Retrieved data for STZ\n",
      "Retrieved data for CEG\n",
      "Retrieved data for COO\n",
      "Retrieved data for CPRT\n",
      "Retrieved data for GLW\n",
      "Retrieved data for CTVA\n",
      "Retrieved data for CSGP\n",
      "Retrieved data for COST\n",
      "Retrieved data for CTRA\n",
      "Retrieved data for CCI\n",
      "Retrieved data for CSX\n",
      "Retrieved data for CMI\n",
      "Retrieved data for CVS\n",
      "Retrieved data for DHI\n",
      "Retrieved data for DHR\n",
      "Retrieved data for DRI\n",
      "Retrieved data for DVA\n",
      "Retrieved data for DE\n",
      "Retrieved data for DAL\n",
      "Retrieved data for XRAY\n",
      "Retrieved data for DVN\n",
      "Retrieved data for DXCM\n",
      "Retrieved data for FANG\n",
      "Retrieved data for DLR\n",
      "Retrieved data for DFS\n",
      "Retrieved data for DISH\n",
      "Retrieved data for DIS\n",
      "Retrieved data for DG\n",
      "Retrieved data for DLTR\n",
      "Retrieved data for D\n",
      "Retrieved data for DPZ\n",
      "Retrieved data for DOV\n",
      "Retrieved data for DOW\n",
      "Retrieved data for DTE\n",
      "Retrieved data for DUK\n",
      "Retrieved data for DD\n",
      "Retrieved data for DXC\n",
      "Retrieved data for EMN\n",
      "Retrieved data for ETN\n",
      "Retrieved data for EBAY\n",
      "Retrieved data for ECL\n",
      "Retrieved data for EIX\n",
      "Retrieved data for EW\n",
      "Retrieved data for EA\n",
      "Retrieved data for ELV\n",
      "Retrieved data for LLY\n",
      "Retrieved data for EMR\n",
      "Retrieved data for ENPH\n",
      "Retrieved data for ETR\n",
      "Retrieved data for EOG\n",
      "Retrieved data for EPAM\n",
      "Retrieved data for EQT\n",
      "Retrieved data for EFX\n",
      "Retrieved data for EQIX\n",
      "Retrieved data for EQR\n",
      "Retrieved data for ESS\n",
      "Retrieved data for EL\n",
      "Retrieved data for ETSY\n",
      "Retrieved data for RE\n",
      "Retrieved data for EVRG\n",
      "Retrieved data for ES\n",
      "Retrieved data for EXC\n",
      "Retrieved data for EXPE\n",
      "Retrieved data for EXPD\n",
      "Retrieved data for EXR\n",
      "Retrieved data for XOM\n",
      "Retrieved data for FFIV\n",
      "Retrieved data for FDS\n",
      "Retrieved data for FICO\n",
      "Retrieved data for FAST\n",
      "Retrieved data for FRT\n",
      "Retrieved data for FDX\n",
      "Retrieved data for FITB\n",
      "Retrieved data for FSLR\n",
      "Retrieved data for FE\n",
      "Retrieved data for FIS\n",
      "Retrieved data for FISV\n",
      "Retrieved data for FLT\n",
      "Retrieved data for FMC\n",
      "Retrieved data for F\n",
      "Retrieved data for FTNT\n",
      "Retrieved data for FTV\n",
      "Retrieved data for FOXA\n",
      "Retrieved data for FOX\n",
      "Retrieved data for BEN\n",
      "Retrieved data for FCX\n",
      "Retrieved data for GRMN\n",
      "Retrieved data for IT\n",
      "Retrieved data for GEHC\n",
      "Retrieved data for GEN\n",
      "Retrieved data for GNRC\n",
      "Retrieved data for GD\n",
      "Retrieved data for GE\n",
      "Retrieved data for GIS\n",
      "Retrieved data for GM\n",
      "Retrieved data for GPC\n",
      "Retrieved data for GILD\n",
      "Retrieved data for GL\n",
      "Retrieved data for GPN\n",
      "Retrieved data for GS\n",
      "Retrieved data for HAL\n",
      "Retrieved data for HIG\n",
      "Retrieved data for HAS\n",
      "Retrieved data for HCA\n",
      "Retrieved data for PEAK\n",
      "Retrieved data for HSIC\n",
      "Retrieved data for HSY\n",
      "Retrieved data for HES\n",
      "Retrieved data for HPE\n",
      "Retrieved data for HLT\n",
      "Retrieved data for HOLX\n",
      "Retrieved data for HD\n",
      "Retrieved data for HON\n",
      "Retrieved data for HRL\n",
      "Retrieved data for HST\n",
      "Retrieved data for HWM\n",
      "Retrieved data for HPQ\n",
      "Retrieved data for HUM\n",
      "Retrieved data for HBAN\n",
      "Retrieved data for HII\n",
      "Retrieved data for IBM\n",
      "Retrieved data for IEX\n",
      "Retrieved data for IDXX\n",
      "Retrieved data for ITW\n",
      "Retrieved data for ILMN\n",
      "Retrieved data for INCY\n",
      "Retrieved data for IR\n",
      "Retrieved data for PODD\n",
      "Retrieved data for INTC\n",
      "Retrieved data for ICE\n",
      "Retrieved data for IFF\n",
      "Retrieved data for IP\n",
      "Retrieved data for IPG\n",
      "Retrieved data for INTU\n",
      "Retrieved data for ISRG\n",
      "Retrieved data for IVZ\n",
      "Retrieved data for INVH\n",
      "Retrieved data for IQV\n",
      "Retrieved data for IRM\n",
      "Retrieved data for JBHT\n",
      "Retrieved data for JKHY\n",
      "Retrieved data for J\n",
      "Retrieved data for JNJ\n",
      "Retrieved data for JCI\n",
      "Retrieved data for JPM\n",
      "Retrieved data for JNPR\n",
      "Retrieved data for K\n",
      "Retrieved data for KDP\n",
      "Retrieved data for KEY\n",
      "Retrieved data for KEYS\n",
      "Retrieved data for KMB\n",
      "Retrieved data for KIM\n",
      "Retrieved data for KMI\n",
      "Retrieved data for KLAC\n",
      "Retrieved data for KHC\n",
      "Retrieved data for KR\n",
      "Retrieved data for LHX\n",
      "Retrieved data for LH\n",
      "Retrieved data for LRCX\n",
      "Retrieved data for LW\n",
      "Retrieved data for LVS\n",
      "Retrieved data for LDOS\n",
      "Retrieved data for LEN\n",
      "Retrieved data for LNC\n",
      "Retrieved data for LIN\n",
      "Retrieved data for LYV\n",
      "Retrieved data for LKQ\n",
      "Retrieved data for LMT\n",
      "Retrieved data for L\n",
      "Retrieved data for LOW\n",
      "Retrieved data for LYB\n",
      "Retrieved data for MTB\n",
      "Retrieved data for MRO\n",
      "Retrieved data for MPC\n",
      "Retrieved data for MKTX\n",
      "Retrieved data for MAR\n",
      "Retrieved data for MMC\n",
      "Retrieved data for MLM\n",
      "Retrieved data for MAS\n",
      "Retrieved data for MA\n",
      "Retrieved data for MTCH\n",
      "Retrieved data for MKC\n",
      "Retrieved data for MCD\n",
      "Retrieved data for MCK\n",
      "Retrieved data for MDT\n",
      "Retrieved data for MRK\n",
      "Retrieved data for META\n",
      "Retrieved data for MET\n",
      "Retrieved data for MTD\n",
      "Retrieved data for MGM\n",
      "Retrieved data for MCHP\n",
      "Retrieved data for MU\n",
      "Retrieved data for MSFT\n",
      "Retrieved data for MAA\n",
      "Retrieved data for MRNA\n",
      "Retrieved data for MHK\n",
      "Retrieved data for MOH\n",
      "Retrieved data for TAP\n",
      "Retrieved data for MDLZ\n",
      "Retrieved data for MPWR\n",
      "Retrieved data for MNST\n",
      "Retrieved data for MCO\n",
      "Retrieved data for MS\n",
      "Retrieved data for MOS\n",
      "Retrieved data for MSI\n",
      "Retrieved data for MSCI\n",
      "Retrieved data for NDAQ\n",
      "Retrieved data for NTAP\n",
      "Retrieved data for NFLX\n",
      "Retrieved data for NWL\n",
      "Retrieved data for NEM\n",
      "Retrieved data for NWSA\n",
      "Retrieved data for NWS\n",
      "Retrieved data for NEE\n",
      "Retrieved data for NKE\n",
      "Retrieved data for NI\n",
      "Retrieved data for NDSN\n",
      "Retrieved data for NSC\n",
      "Retrieved data for NTRS\n",
      "Retrieved data for NOC\n",
      "Retrieved data for NCLH\n",
      "Retrieved data for NRG\n",
      "Retrieved data for NUE\n",
      "Retrieved data for NVDA\n",
      "Retrieved data for NVR\n",
      "Retrieved data for NXPI\n",
      "Retrieved data for ORLY\n",
      "Retrieved data for OXY\n",
      "Retrieved data for ODFL\n",
      "Retrieved data for OMC\n",
      "Retrieved data for ON\n",
      "Retrieved data for OKE\n",
      "Retrieved data for ORCL\n",
      "Retrieved data for OGN\n",
      "Retrieved data for OTIS\n",
      "Retrieved data for PCAR\n",
      "Retrieved data for PKG\n",
      "Retrieved data for PARA\n",
      "Retrieved data for PH\n",
      "Retrieved data for PAYX\n",
      "Retrieved data for PAYC\n",
      "Retrieved data for PYPL\n",
      "Retrieved data for PNR\n",
      "Retrieved data for PEP\n",
      "Retrieved data for PFE\n",
      "Retrieved data for PCG\n",
      "Retrieved data for PM\n",
      "Retrieved data for PSX\n",
      "Retrieved data for PNW\n",
      "Retrieved data for PXD\n",
      "Retrieved data for PNC\n",
      "Retrieved data for POOL\n",
      "Retrieved data for PPG\n",
      "Retrieved data for PPL\n",
      "Retrieved data for PFG\n",
      "Retrieved data for PG\n",
      "Retrieved data for PGR\n",
      "Retrieved data for PLD\n",
      "Retrieved data for PRU\n",
      "Retrieved data for PEG\n",
      "Retrieved data for PTC\n",
      "Retrieved data for PSA\n",
      "Retrieved data for PHM\n",
      "Retrieved data for QRVO\n",
      "Retrieved data for PWR\n",
      "Retrieved data for QCOM\n",
      "Retrieved data for DGX\n",
      "Retrieved data for RL\n",
      "Retrieved data for RJF\n",
      "Retrieved data for RTX\n",
      "Retrieved data for O\n",
      "Retrieved data for REG\n",
      "Retrieved data for REGN\n",
      "Retrieved data for RF\n",
      "Retrieved data for RSG\n",
      "Retrieved data for RMD\n",
      "Retrieved data for RVTY\n",
      "Retrieved data for RHI\n",
      "Retrieved data for ROK\n",
      "Retrieved data for ROL\n",
      "Retrieved data for ROP\n",
      "Retrieved data for ROST\n",
      "Retrieved data for RCL\n",
      "Retrieved data for SPGI\n",
      "Retrieved data for CRM\n",
      "Retrieved data for SBAC\n",
      "Retrieved data for SLB\n",
      "Retrieved data for STX\n",
      "Retrieved data for SEE\n",
      "Retrieved data for SRE\n",
      "Retrieved data for NOW\n",
      "Retrieved data for SHW\n",
      "Retrieved data for SPG\n",
      "Retrieved data for SWKS\n",
      "Retrieved data for SJM\n",
      "Retrieved data for SNA\n",
      "Retrieved data for SEDG\n",
      "Retrieved data for SO\n",
      "Retrieved data for LUV\n",
      "Retrieved data for SWK\n",
      "Retrieved data for SBUX\n",
      "Retrieved data for STT\n",
      "Retrieved data for STLD\n",
      "Retrieved data for STE\n",
      "Retrieved data for SYK\n",
      "Retrieved data for SYF\n",
      "Retrieved data for SNPS\n",
      "Retrieved data for SYY\n",
      "Retrieved data for TMUS\n",
      "Retrieved data for TROW\n",
      "Retrieved data for TTWO\n",
      "Retrieved data for TPR\n",
      "Retrieved data for TRGP\n",
      "Retrieved data for TGT\n",
      "Retrieved data for TEL\n",
      "Retrieved data for TDY\n",
      "Retrieved data for TFX\n",
      "Retrieved data for TER\n",
      "Retrieved data for TSLA\n",
      "Retrieved data for TXN\n",
      "Retrieved data for TXT\n",
      "Retrieved data for TMO\n",
      "Retrieved data for TJX\n",
      "Retrieved data for TSCO\n",
      "Retrieved data for TT\n",
      "Retrieved data for TDG\n",
      "Retrieved data for TRV\n",
      "Retrieved data for TRMB\n",
      "Retrieved data for TFC\n",
      "Retrieved data for TYL\n",
      "Retrieved data for TSN\n",
      "Retrieved data for USB\n",
      "Retrieved data for UDR\n",
      "Retrieved data for ULTA\n",
      "Retrieved data for UNP\n",
      "Retrieved data for UAL\n",
      "Retrieved data for UPS\n",
      "Retrieved data for URI\n",
      "Retrieved data for UNH\n",
      "Retrieved data for UHS\n",
      "Retrieved data for VLO\n",
      "Retrieved data for VTR\n",
      "Retrieved data for VRSN\n",
      "Retrieved data for VRSK\n",
      "Retrieved data for VZ\n",
      "Retrieved data for VRTX\n",
      "Retrieved data for VFC\n",
      "Retrieved data for VTRS\n",
      "Retrieved data for VICI\n",
      "Retrieved data for V\n",
      "Retrieved data for VMC\n",
      "Retrieved data for WAB\n",
      "Retrieved data for WBA\n",
      "Retrieved data for WMT\n",
      "Retrieved data for WBD\n",
      "Retrieved data for WM\n",
      "Retrieved data for WAT\n",
      "Retrieved data for WEC\n",
      "Retrieved data for WFC\n",
      "Retrieved data for WELL\n",
      "Retrieved data for WST\n",
      "Retrieved data for WDC\n",
      "Retrieved data for WRK\n",
      "Retrieved data for WY\n",
      "Retrieved data for WHR\n",
      "Retrieved data for WMB\n",
      "Retrieved data for WTW\n",
      "Retrieved data for GWW\n",
      "Retrieved data for WYNN\n",
      "Retrieved data for XEL\n",
      "Retrieved data for XYL\n",
      "Retrieved data for YUM\n",
      "Retrieved data for ZBRA\n",
      "Retrieved data for ZBH\n",
      "Retrieved data for ZION\n",
      "Retrieved data for ZTS\n"
     ]
    }
   ],
   "source": [
    "#Get list of tickers for S&P 500 stocks\n",
    "table = pd.read_html('https://en.wikipedia.org/wiki/List_of_S%26P_500_companies')\n",
    "df = table[0]\n",
    "tickers = df['Symbol'].tolist()\n",
    "\n",
    "#Set start and end dates \n",
    "end_date = datetime.strptime('2023-05-08', '%Y-%m-%d')\n",
    "start_date = datetime.strptime('2022-05-07', '%Y-%m-%d')\n",
    "\n",
    "#Download returns of each stock in the s&p500\n",
    "data = []\n",
    "for ticker in tickers:\n",
    "    try:\n",
    "        stock = yf.Ticker(ticker)\n",
    "        history = stock.history(start=start_date, end=end_date)\n",
    "        if not history.empty:\n",
    "            #Calculate daily returns\n",
    "            history['Return'] = history['Close'] / history['Close'].shift(1) - 1\n",
    "            for index, row in history.iterrows():\n",
    "                #Dates of the returns are already shifted back because we want to use \n",
    "                #them with comments of the day before\n",
    "                if pd.to_datetime(index.strftime('%Y-%m-%d')).weekday()==0:\n",
    "                    #If it is monday we shift it back to the friday before\n",
    "                    date = pd.to_datetime(index.strftime('%Y-%m-%d'))-timedelta(days=3)\n",
    "                else:\n",
    "                    #Otherwise we just shift the date back by one day \n",
    "                    date = pd.to_datetime(index.strftime('%Y-%m-%d'))-timedelta(days=1)\n",
    "                stock_return = row['Return']\n",
    "                data.append([date, ticker, stock_return])\n",
    "\n",
    "            print(f\"Retrieved data for {ticker}\")\n",
    "        else:\n",
    "            print(f\"No data available for {ticker}\")\n",
    "    except:\n",
    "        print(f\"Error retrieving data for {ticker}\")\n",
    "\n",
    "# Create a DataFrame from the collected data\n",
    "df = pd.DataFrame(data, columns=['date', 'ticker', 'return'])\n",
    "\n",
    "df['date']=pd.to_datetime(df['date'])\n",
    "df=df.dropna()"
   ]
  },
  {
   "cell_type": "code",
   "execution_count": 3,
   "metadata": {},
   "outputs": [
    {
     "name": "stderr",
     "output_type": "stream",
     "text": [
      "/var/folders/xm/v8rw_rk978q4m456yhl9rn_c0000gn/T/ipykernel_39448/789894993.py:11: SettingWithCopyWarning: \n",
      "A value is trying to be set on a copy of a slice from a DataFrame\n",
      "\n",
      "See the caveats in the documentation: https://pandas.pydata.org/pandas-docs/stable/user_guide/indexing.html#returning-a-view-versus-a-copy\n",
      "  data1['date'][i]=data1['date'][i]-timedelta(days=2)\n",
      "/var/folders/xm/v8rw_rk978q4m456yhl9rn_c0000gn/T/ipykernel_39448/789894993.py:9: SettingWithCopyWarning: \n",
      "A value is trying to be set on a copy of a slice from a DataFrame\n",
      "\n",
      "See the caveats in the documentation: https://pandas.pydata.org/pandas-docs/stable/user_guide/indexing.html#returning-a-view-versus-a-copy\n",
      "  data1['date'][i]=data1['date'][i]-timedelta(days=1)\n"
     ]
    }
   ],
   "source": [
    "#We download the data obtained from the previous code with comments and the respective scores\n",
    "data1=pd.read_csv('data_with_scores.csv')\n",
    "data1.rename(columns={'name':'ticker'},inplace=True)\n",
    "data1['date']=pd.to_datetime(data1['date'])\n",
    "#If a comment is made on the weekend we set its date to be the previous friday\n",
    "#In this way we will use them with the return of the next monday\n",
    "for i in range(len(data1)):\n",
    "    if data1['date'][i].weekday()==5:\n",
    "        data1['date'][i]=data1['date'][i]-timedelta(days=1)\n",
    "    if data1['date'][i].weekday()==6:\n",
    "        data1['date'][i]=data1['date'][i]-timedelta(days=2)\n",
    "\n"
   ]
  },
  {
   "cell_type": "code",
   "execution_count": 4,
   "metadata": {},
   "outputs": [
    {
     "name": "stderr",
     "output_type": "stream",
     "text": [
      "/var/folders/xm/v8rw_rk978q4m456yhl9rn_c0000gn/T/ipykernel_39448/377951404.py:8: SettingWithCopyWarning: \n",
      "A value is trying to be set on a copy of a slice from a DataFrame\n",
      "\n",
      "See the caveats in the documentation: https://pandas.pydata.org/pandas-docs/stable/user_guide/indexing.html#returning-a-view-versus-a-copy\n",
      "  bert_data1['date'][i]=bert_data1['date'][i]-timedelta(days=2)\n",
      "/var/folders/xm/v8rw_rk978q4m456yhl9rn_c0000gn/T/ipykernel_39448/377951404.py:6: SettingWithCopyWarning: \n",
      "A value is trying to be set on a copy of a slice from a DataFrame\n",
      "\n",
      "See the caveats in the documentation: https://pandas.pydata.org/pandas-docs/stable/user_guide/indexing.html#returning-a-view-versus-a-copy\n",
      "  bert_data1['date'][i]=bert_data1['date'][i]-timedelta(days=1)\n"
     ]
    }
   ],
   "source": [
    "bert_data1=pd.read_csv('nn.csv')\n",
    "bert_data1.rename(columns={'name':'ticker'},inplace=True)\n",
    "bert_data1['date']=pd.to_datetime(bert_data1['date'])\n",
    "for i in range(len(bert_data1)):\n",
    "    if bert_data1['date'][i].weekday()==5:\n",
    "        bert_data1['date'][i]=bert_data1['date'][i]-timedelta(days=1)\n",
    "    if bert_data1['date'][i].weekday()==6:\n",
    "        bert_data1['date'][i]=bert_data1['date'][i]-timedelta(days=2)"
   ]
  },
  {
   "cell_type": "code",
   "execution_count": 5,
   "metadata": {},
   "outputs": [],
   "source": [
    "weights = pd.read_excel(\"Book1.xlsx\")\n",
    "#We merge the data with the weights of each stock in the s&p500\n",
    "data2=pd.merge(weights,data1, on=\"ticker\", how=\"right\")\n",
    "#We merge the data with comments with score with the data with \n",
    "#returns for each stock\n",
    "data=pd.merge(df,data2,on=['ticker','date'],how='right')"
   ]
  },
  {
   "cell_type": "code",
   "execution_count": 6,
   "metadata": {},
   "outputs": [],
   "source": [
    "bert_data2=pd.merge(weights,bert_data1, on=\"ticker\", how=\"right\")\n",
    "bert_data=pd.merge(df,bert_data2,on=['ticker','date'],how='right')"
   ]
  },
  {
   "cell_type": "code",
   "execution_count": 7,
   "metadata": {},
   "outputs": [],
   "source": [
    "data=data.dropna()\n",
    "bert_data=bert_data.dropna()"
   ]
  },
  {
   "cell_type": "code",
   "execution_count": 8,
   "metadata": {},
   "outputs": [
    {
     "name": "stdout",
     "output_type": "stream",
     "text": [
      "[*********************100%***********************]  1 of 1 completed\n"
     ]
    },
    {
     "name": "stderr",
     "output_type": "stream",
     "text": [
      "/var/folders/xm/v8rw_rk978q4m456yhl9rn_c0000gn/T/ipykernel_39448/1364081823.py:25: SettingWithCopyWarning: \n",
      "A value is trying to be set on a copy of a slice from a DataFrame.\n",
      "Try using .loc[row_indexer,col_indexer] = value instead\n",
      "\n",
      "See the caveats in the documentation: https://pandas.pydata.org/pandas-docs/stable/user_guide/indexing.html#returning-a-view-versus-a-copy\n",
      "  df['date']=pd.to_datetime(df['date'])\n",
      "/var/folders/xm/v8rw_rk978q4m456yhl9rn_c0000gn/T/ipykernel_39448/1364081823.py:36: SettingWithCopyWarning: \n",
      "A value is trying to be set on a copy of a slice from a DataFrame\n",
      "\n",
      "See the caveats in the documentation: https://pandas.pydata.org/pandas-docs/stable/user_guide/indexing.html#returning-a-view-versus-a-copy\n",
      "  df['date'][i] = df['date'][i]-timedelta(days=1)\n",
      "/var/folders/xm/v8rw_rk978q4m456yhl9rn_c0000gn/T/ipykernel_39448/1364081823.py:34: SettingWithCopyWarning: \n",
      "A value is trying to be set on a copy of a slice from a DataFrame\n",
      "\n",
      "See the caveats in the documentation: https://pandas.pydata.org/pandas-docs/stable/user_guide/indexing.html#returning-a-view-versus-a-copy\n",
      "  df['date'][i] = df['date'][i]-timedelta(days=3)\n"
     ]
    }
   ],
   "source": [
    "import pandas_datareader.data as web\n",
    "\n",
    "#Download the T-Bill data from the U.S. Department of the Treasury to use as risk-free rate\n",
    "tbill=web.DataReader('TB3MS', 'fred', '2022-05-07', '2023-05-08')\n",
    "#Forward fill the data if the values are missing for some dates\n",
    "tbill=tbill.resample('D').ffill()\n",
    "\n",
    "idx = pd.date_range(start=tbill.index.min(), end='2023-05-08')\n",
    "tbill = tbill.reindex(idx)\n",
    "\n",
    "tbill = tbill.fillna(method='ffill')\n",
    "\n",
    "tbill.reset_index(inplace=True)\n",
    "tbill.rename(columns={'index': 'date'}, inplace=True)\n",
    "\n",
    "#Download the S&P 500 data from Yahoo Finance\n",
    "sp500=yf.download('^GSPC', '2022-05-07', '2023-05-08')\n",
    "\n",
    "sp500['return']=sp500['Close'].pct_change()\n",
    "\n",
    "sp500.reset_index(inplace=True)\n",
    "sp500.rename(columns={'Date': 'date'}, inplace=True)\n",
    "\n",
    "df=sp500[['date', 'return']]\n",
    "df['date']=pd.to_datetime(df['date'])\n",
    "df=pd.merge(df,tbill)\n",
    "df['date']=pd.to_datetime(df['date'])\n",
    "\n",
    "#Dates of the returns are already shifted back because we want to use them with comments of the day before.\n",
    "#Monday returns are shifted back to the previous friday and they will be used with comments of friday,\n",
    "#Saturday and Sunday \n",
    "for i in range(len(df['date'])):\n",
    "    if df['date'][i].weekday()==0:\n",
    "        df['date'][i] = df['date'][i]-timedelta(days=3)\n",
    "    else:\n",
    "        df['date'][i] = df['date'][i]-timedelta(days=1)\n",
    "\n",
    "#make risk free rate daily\n",
    "df['TB3MS']=df['TB3MS']/(252*100)\n",
    "\n",
    "df['excess']=df['return']-df['TB3MS']\n",
    "df['const']=1"
   ]
  },
  {
   "attachments": {},
   "cell_type": "markdown",
   "metadata": {},
   "source": [
    "## Groupby industry and daily returns"
   ]
  },
  {
   "cell_type": "code",
   "execution_count": 9,
   "metadata": {},
   "outputs": [],
   "source": [
    "#We create a score for an indutry in each day computing the mean of the scores all comments for a given industry in that day\n",
    "avg_vad_score=data.groupby(['date','sector']).apply(lambda x : x['c_vader'].mean()).reset_index()\n",
    "avg_blo_score=data.groupby(['date','sector']).apply(lambda x : x['c_textb'].mean()).reset_index()\n",
    "#We compute the return of each indutry in a given day with weights normalized such that they sum up to 1\n",
    "ret_ind=data.groupby(['date','sector']).apply(lambda x : np.sum(x['return']*x['Weight']/(np.sum(x['Weight'])))).reset_index() "
   ]
  },
  {
   "cell_type": "code",
   "execution_count": 10,
   "metadata": {},
   "outputs": [],
   "source": [
    "avg_vad_score.rename(columns={0:'vad_score'},inplace=True)\n",
    "avg_blo_score.rename(columns={0:'blo_score'},inplace=True)\n",
    "ret_ind.rename(columns={0:'ret_ind'},inplace=True)"
   ]
  },
  {
   "cell_type": "code",
   "execution_count": 11,
   "metadata": {},
   "outputs": [],
   "source": [
    "data4=pd.merge(avg_vad_score,avg_blo_score)\n",
    "data4=pd.merge(data4,ret_ind)\n",
    "#We rank the industries based on their average score for each day\n",
    "vad1=data4.groupby('date').apply(lambda x: x['vad_score'].rank(ascending=False)).reset_index()\n",
    "blo1=data4.groupby('date').apply(lambda x: x['blo_score'].rank(ascending=False)).reset_index()\n",
    "vad1.rename(columns={'vad_score':'ranking_vad'},inplace=True)\n",
    "blo1.rename(columns={'blo_score':'ranking_blo'},inplace=True)\n",
    "#Add the column to the dataset\n",
    "data4[\"ranking_vad\"]=vad1[\"ranking_vad\"]\n",
    "data4[\"ranking_blo\"]=blo1[\"ranking_blo\"]"
   ]
  },
  {
   "cell_type": "code",
   "execution_count": 12,
   "metadata": {},
   "outputs": [],
   "source": [
    "#We create a vector with 1 if the industry is the best (based on the average score) and -1 if it is the worst\n",
    "data4['max_rank'] = data4.groupby('date')['ranking_vad'].transform('min')\n",
    "data4['min_rank'] = data4.groupby('date')['ranking_vad'].transform('max')\n",
    "data4['vector_vad'] = 0\n",
    "data4.loc[data4['ranking_vad'] == data4['max_rank'], 'vector_vad'] = 1\n",
    "data4.loc[data4['ranking_vad'] == data4['min_rank'], 'vector_vad'] = -1\n",
    "data4.drop(['max_rank', 'min_rank'], axis=1, inplace=True)"
   ]
  },
  {
   "cell_type": "code",
   "execution_count": 13,
   "metadata": {},
   "outputs": [],
   "source": [
    "data4['max_rank'] = data4.groupby('date')['ranking_blo'].transform('min')\n",
    "data4['min_rank'] = data4.groupby('date')['ranking_blo'].transform('max')\n",
    "data4['vector_blo'] = 0\n",
    "data4.loc[data4['ranking_blo'] == data4['max_rank'], 'vector_blo'] = 1\n",
    "data4.loc[data4['ranking_blo'] == data4['min_rank'], 'vector_blo'] = -1\n",
    "data4.drop(['max_rank', 'min_rank'], axis=1, inplace=True)"
   ]
  },
  {
   "cell_type": "code",
   "execution_count": 14,
   "metadata": {},
   "outputs": [],
   "source": [
    "#We get the return of our strategy subtrating the return of the worst industry from \n",
    "#the return of the best industry for each day \n",
    "ret1_vad=data4.groupby('date').apply(lambda x : np.sum(x['ret_ind']*x['vector_vad']))\n",
    "ret1_blo=data4.groupby('date').apply(lambda x : np.sum(x['ret_ind']*x['vector_blo']))"
   ]
  },
  {
   "cell_type": "code",
   "execution_count": 15,
   "metadata": {},
   "outputs": [],
   "source": [
    "avg_bert_score=bert_data.groupby(['date','sector']).apply(lambda x : x['sentiment'].mean()).reset_index()\n",
    "bert_ret_ind=bert_data.groupby(['date','sector']).apply(lambda x : np.sum(x['return']*x['Weight']/(np.sum(x['Weight'])))).reset_index() "
   ]
  },
  {
   "cell_type": "code",
   "execution_count": 16,
   "metadata": {},
   "outputs": [],
   "source": [
    "avg_bert_score.rename(columns={0:'bert_score'},inplace=True)\n",
    "bert_ret_ind.rename(columns={0:'ret_ind'},inplace=True)"
   ]
  },
  {
   "cell_type": "code",
   "execution_count": 17,
   "metadata": {},
   "outputs": [],
   "source": [
    "bert_data4=pd.merge(avg_bert_score,bert_ret_ind)\n",
    "#We rank the industries based on their average score for each day\n",
    "bert1=bert_data4.groupby('date').apply(lambda x: x['bert_score'].rank(ascending=False)).reset_index()\n",
    "bert1.rename(columns={'bert_score':'ranking_bert'},inplace=True)\n",
    "#Add the column to the dataset\n",
    "bert_data4[\"ranking_bert\"]=bert1[\"ranking_bert\"]"
   ]
  },
  {
   "cell_type": "code",
   "execution_count": 18,
   "metadata": {},
   "outputs": [],
   "source": [
    "#We create a vector with 1 if the industry is the best (based on the average score) and -1 if it is the worst\n",
    "bert_data4['max_rank'] = bert_data4.groupby('date')['ranking_bert'].transform('min')\n",
    "bert_data4['min_rank'] = bert_data4.groupby('date')['ranking_bert'].transform('max')\n",
    "bert_data4['vector_bert'] = 0\n",
    "bert_data4.loc[bert_data4['ranking_bert'] == bert_data4['max_rank'], 'vector_bert'] = 1\n",
    "bert_data4.loc[bert_data4['ranking_bert'] == bert_data4['min_rank'], 'vector_bert'] = -1\n",
    "bert_data4.drop(['max_rank', 'min_rank'], axis=1, inplace=True)"
   ]
  },
  {
   "cell_type": "code",
   "execution_count": 19,
   "metadata": {},
   "outputs": [],
   "source": [
    "ret1_bert=bert_data4.groupby('date').apply(lambda x : np.sum(x['ret_ind']*x['vector_bert']))"
   ]
  },
  {
   "cell_type": "code",
   "execution_count": 20,
   "metadata": {},
   "outputs": [
    {
     "name": "stdout",
     "output_type": "stream",
     "text": [
      "-0.16888536161344048\n"
     ]
    }
   ],
   "source": [
    "print(ret1_bert.mean()*252)"
   ]
  },
  {
   "cell_type": "code",
   "execution_count": 21,
   "metadata": {},
   "outputs": [
    {
     "name": "stdout",
     "output_type": "stream",
     "text": [
      "0.3530577306601159\n"
     ]
    }
   ],
   "source": [
    "print(ret1_bert.std()*np.sqrt(252))"
   ]
  },
  {
   "cell_type": "code",
   "execution_count": 22,
   "metadata": {},
   "outputs": [
    {
     "name": "stdout",
     "output_type": "stream",
     "text": [
      "0.10456716907196806 0.26267427799504217\n"
     ]
    }
   ],
   "source": [
    "print(ret1_vad.mean()*252,ret1_blo.mean()*252)"
   ]
  },
  {
   "cell_type": "code",
   "execution_count": 23,
   "metadata": {},
   "outputs": [
    {
     "name": "stdout",
     "output_type": "stream",
     "text": [
      "0.37865074166319196 0.4215922524465434\n"
     ]
    }
   ],
   "source": [
    "print(ret1_vad.std()*np.sqrt(252),ret1_blo.std()*np.sqrt(252))"
   ]
  },
  {
   "cell_type": "code",
   "execution_count": 24,
   "metadata": {},
   "outputs": [],
   "source": [
    "#IR is calculated as the alpha of a regression over the market excess return\n",
    "#divided by the standard deviation of the residuals of the regression\n",
    "#Then it is multiplied by sqrt(252) to annualize it \n",
    "ret1_vad.name = 'ret1_vad'\n",
    "ret1_vad.reset_index()\n",
    "df=df.merge(ret1_vad,right_on='date',left_on='date',how='inner')\n",
    "model1vad=sm.OLS(df['ret1_vad'],df[['const','excess']]).fit()\n",
    "IR_vad=model1vad.params[0]*252/(np.std(model1vad.resid.values)*np.sqrt(252))\n",
    "ret1_blo.name = 'ret1_blo'\n",
    "ret1_blo.reset_index()\n",
    "df=df.merge(ret1_blo,right_on='date',left_on='date',how='inner')\n",
    "model1blo=sm.OLS(df['ret1_blo'],df[['const','excess']]).fit()\n",
    "IR_blo=model1blo.params[0]*252/(np.std(model1blo.resid.values)*np.sqrt(252))"
   ]
  },
  {
   "cell_type": "code",
   "execution_count": 25,
   "metadata": {},
   "outputs": [],
   "source": [
    "ret1_bert.name = 'ret1_bert'\n",
    "ret1_bert.reset_index()\n",
    "df1=df.merge(ret1_bert,right_on='date',left_on='date',how='inner')\n",
    "model1bert=sm.OLS(df1['ret1_bert'],df1[['const','excess']]).fit()\n",
    "IR_bert=model1bert.params[0]*252/(np.std(model1bert.resid.values)*np.sqrt(252))"
   ]
  },
  {
   "cell_type": "code",
   "execution_count": 26,
   "metadata": {},
   "outputs": [
    {
     "name": "stdout",
     "output_type": "stream",
     "text": [
      "0.07744834558501902 0.516469443750156 -0.49231769244573403\n"
     ]
    }
   ],
   "source": [
    "print(IR_vad,IR_blo,IR_bert)"
   ]
  },
  {
   "cell_type": "code",
   "execution_count": 27,
   "metadata": {},
   "outputs": [
    {
     "data": {
      "text/plain": [
       "array([[1.        , 0.25585366],\n",
       "       [0.25585366, 1.        ]])"
      ]
     },
     "execution_count": 27,
     "metadata": {},
     "output_type": "execute_result"
    }
   ],
   "source": [
    "np.corrcoef(ret1_vad,ret1_blo)"
   ]
  },
  {
   "cell_type": "code",
   "execution_count": 28,
   "metadata": {},
   "outputs": [
    {
     "data": {
      "text/plain": [
       "<matplotlib.legend.Legend at 0x7fdc46002e50>"
      ]
     },
     "execution_count": 28,
     "metadata": {},
     "output_type": "execute_result"
    },
    {
     "data": {
      "image/png": "[encoded data removed]",
      "text/plain": [
       "<Figure size 640x480 with 1 Axes>"
      ]
     },
     "metadata": {},
     "output_type": "display_data"
    }
   ],
   "source": [
    "plt.plot(ret1_blo,label='Textblob')\n",
    "plt.plot(ret1_vad,label='Vader')\n",
    "plt.plot(ret1_bert,label='BERT')\n",
    "plt.ylabel('Returns')\n",
    "plt.title('Group by industry and daily returns')\n",
    "plt.legend()"
   ]
  },
  {
   "attachments": {},
   "cell_type": "markdown",
   "metadata": {},
   "source": [
    "## groupby stock and daily returns"
   ]
  },
  {
   "cell_type": "code",
   "execution_count": 29,
   "metadata": {},
   "outputs": [],
   "source": [
    "#The procedure is the same as before\n",
    "avg_vad_score=data.groupby(['date','ticker']).apply(lambda x : x['c_vader'].mean()).reset_index()\n",
    "avg_blo_score=data.groupby(['date','ticker']).apply(lambda x : x['c_textb'].mean()).reset_index()\n",
    "ret_stock=data.groupby(['date','ticker']).apply(lambda x : x['return'].mean()).reset_index() #they are all the same \n",
    "w_stock=data.groupby(['date','ticker']).apply(lambda x : x['Weight'].mean()).reset_index() #they are all the same "
   ]
  },
  {
   "cell_type": "code",
   "execution_count": 30,
   "metadata": {},
   "outputs": [],
   "source": [
    "avg_bert_score=bert_data.groupby(['date','ticker']).apply(lambda x : x['sentiment'].mean()).reset_index()\n",
    "bert_ret_stock=bert_data.groupby(['date','ticker']).apply(lambda x : x['return'].mean()).reset_index() #they are all the same \n",
    "bert_w_stock=bert_data.groupby(['date','ticker']).apply(lambda x : x['Weight'].mean()).reset_index() #they are all the same "
   ]
  },
  {
   "cell_type": "code",
   "execution_count": 31,
   "metadata": {},
   "outputs": [],
   "source": [
    "avg_vad_score.rename(columns={0:'vad_score'},inplace=True)\n",
    "avg_blo_score.rename(columns={0:'blo_score'},inplace=True)\n",
    "ret_stock.rename(columns={0:'return'},inplace=True)\n",
    "w_stock.rename(columns={0:'Weight'},inplace=True)"
   ]
  },
  {
   "cell_type": "code",
   "execution_count": 32,
   "metadata": {},
   "outputs": [],
   "source": [
    "avg_bert_score.rename(columns={0:'bert_score'},inplace=True)\n",
    "bert_ret_stock.rename(columns={0:'return'},inplace=True)\n",
    "bert_w_stock.rename(columns={0:'Weight'},inplace=True)"
   ]
  },
  {
   "cell_type": "code",
   "execution_count": 33,
   "metadata": {},
   "outputs": [],
   "source": [
    "data5=pd.merge(avg_vad_score,avg_blo_score)\n",
    "data5=pd.merge(data5,ret_stock)\n",
    "data5=pd.merge(data5,w_stock)\n",
    "\n",
    "#We create another column where for each day we have the 0.1 and 0.9 quantile of the mean score\n",
    "data5[\"vad_quant_up\"] = data5.groupby(['date'])['vad_score'].transform(lambda x: x.quantile(0.9))\n",
    "data5[\"vad_quant_down\"] = data5.groupby(['date'])['vad_score'].transform(lambda x: x.quantile(0.1))\n",
    "data5[\"blo_quant_up\"] = data5.groupby(['date'])['blo_score'].transform(lambda x: x.quantile(0.9))\n",
    "data5[\"blo_quant_down\"] = data5.groupby(['date'])['blo_score'].transform(lambda x: x.quantile(0.1))\n"
   ]
  },
  {
   "cell_type": "code",
   "execution_count": 34,
   "metadata": {},
   "outputs": [],
   "source": [
    "bert_data5=pd.merge(avg_bert_score,bert_ret_stock)\n",
    "bert_data5=pd.merge(bert_data5,bert_w_stock)\n",
    "bert_data5[\"bert_quant_up\"] = bert_data5.groupby(['date'])['bert_score'].transform(lambda x: x.quantile(0.9))\n",
    "bert_data5[\"bert_quant_down\"] = bert_data5.groupby(['date'])['bert_score'].transform(lambda x: x.quantile(0.1))"
   ]
  },
  {
   "cell_type": "code",
   "execution_count": 35,
   "metadata": {},
   "outputs": [
    {
     "name": "stderr",
     "output_type": "stream",
     "text": [
      "/var/folders/xm/v8rw_rk978q4m456yhl9rn_c0000gn/T/ipykernel_39448/1078265181.py:6: SettingWithCopyWarning: \n",
      "A value is trying to be set on a copy of a slice from a DataFrame\n",
      "\n",
      "See the caveats in the documentation: https://pandas.pydata.org/pandas-docs/stable/user_guide/indexing.html#returning-a-view-versus-a-copy\n",
      "  data5['up_down_vad'][data5['vad_score']>=data5['vad_quant_up']]=1\n",
      "/var/folders/xm/v8rw_rk978q4m456yhl9rn_c0000gn/T/ipykernel_39448/1078265181.py:7: SettingWithCopyWarning: \n",
      "A value is trying to be set on a copy of a slice from a DataFrame\n",
      "\n",
      "See the caveats in the documentation: https://pandas.pydata.org/pandas-docs/stable/user_guide/indexing.html#returning-a-view-versus-a-copy\n",
      "  data5['up_down_vad'][data5['vad_score']<=data5['vad_quant_down']]=-1\n",
      "/var/folders/xm/v8rw_rk978q4m456yhl9rn_c0000gn/T/ipykernel_39448/1078265181.py:8: SettingWithCopyWarning: \n",
      "A value is trying to be set on a copy of a slice from a DataFrame\n",
      "\n",
      "See the caveats in the documentation: https://pandas.pydata.org/pandas-docs/stable/user_guide/indexing.html#returning-a-view-versus-a-copy\n",
      "  data5['up_down_blo'][data5['blo_score']>=data5['blo_quant_up']]=1\n",
      "/var/folders/xm/v8rw_rk978q4m456yhl9rn_c0000gn/T/ipykernel_39448/1078265181.py:9: SettingWithCopyWarning: \n",
      "A value is trying to be set on a copy of a slice from a DataFrame\n",
      "\n",
      "See the caveats in the documentation: https://pandas.pydata.org/pandas-docs/stable/user_guide/indexing.html#returning-a-view-versus-a-copy\n",
      "  data5['up_down_blo'][data5['blo_score']<=data5['blo_quant_down']]=-1\n"
     ]
    }
   ],
   "source": [
    "#We create another column with 1 if the average score of the stock in that day is \n",
    "#higher than 0.9 quantile, -1 if the average score is lower than 0.1 quantile and 0\n",
    "#otherwise\n",
    "data5['up_down_vad']=0\n",
    "data5['up_down_blo']=0\n",
    "data5['up_down_vad'][data5['vad_score']>=data5['vad_quant_up']]=1\n",
    "data5['up_down_vad'][data5['vad_score']<=data5['vad_quant_down']]=-1\n",
    "data5['up_down_blo'][data5['blo_score']>=data5['blo_quant_up']]=1\n",
    "data5['up_down_blo'][data5['blo_score']<=data5['blo_quant_down']]=-1"
   ]
  },
  {
   "cell_type": "code",
   "execution_count": 36,
   "metadata": {},
   "outputs": [
    {
     "name": "stderr",
     "output_type": "stream",
     "text": [
      "/var/folders/xm/v8rw_rk978q4m456yhl9rn_c0000gn/T/ipykernel_39448/2077005829.py:3: SettingWithCopyWarning: \n",
      "A value is trying to be set on a copy of a slice from a DataFrame\n",
      "\n",
      "See the caveats in the documentation: https://pandas.pydata.org/pandas-docs/stable/user_guide/indexing.html#returning-a-view-versus-a-copy\n",
      "  bert_data5['up_down_bert'][bert_data5['bert_score']>=bert_data5['bert_quant_up']]=1\n",
      "/var/folders/xm/v8rw_rk978q4m456yhl9rn_c0000gn/T/ipykernel_39448/2077005829.py:4: SettingWithCopyWarning: \n",
      "A value is trying to be set on a copy of a slice from a DataFrame\n",
      "\n",
      "See the caveats in the documentation: https://pandas.pydata.org/pandas-docs/stable/user_guide/indexing.html#returning-a-view-versus-a-copy\n",
      "  bert_data5['up_down_bert'][bert_data5['bert_score']<=bert_data5['bert_quant_down']]=-1\n"
     ]
    }
   ],
   "source": [
    "bert_data5['up_down_bert']=0\n",
    "bert_data5['up_down_bert']=0\n",
    "bert_data5['up_down_bert'][bert_data5['bert_score']>=bert_data5['bert_quant_up']]=1\n",
    "bert_data5['up_down_bert'][bert_data5['bert_score']<=bert_data5['bert_quant_down']]=-1"
   ]
  },
  {
   "cell_type": "code",
   "execution_count": 37,
   "metadata": {},
   "outputs": [],
   "source": [
    "#We create a vector of weights for a stategy that goes long (with weights summing up to 1) in the\n",
    "#top quantile stocks and shorts (with weights summing up to 1) the bottom quantile stocks\n",
    "data5['wm_quant_vad'] = data5['Weight']*data5['up_down_vad']/data5.groupby(['date','up_down_vad'])['Weight'].transform('sum') #make weights sum up to 1 in top and bottom quantile\n",
    "data5['wm_quant_blo'] = data5['Weight']*data5['up_down_blo']/data5.groupby(['date','up_down_blo'])['Weight'].transform('sum')"
   ]
  },
  {
   "cell_type": "code",
   "execution_count": 38,
   "metadata": {},
   "outputs": [],
   "source": [
    "bert_data5['wm_quant_bert'] = bert_data5['Weight']*bert_data5['up_down_bert']/bert_data5.groupby(['date','up_down_bert'])['Weight'].transform('sum')"
   ]
  },
  {
   "cell_type": "code",
   "execution_count": 39,
   "metadata": {},
   "outputs": [],
   "source": [
    "#We compute the return of the strategy\n",
    "ret2_vad=data5.groupby('date').apply(lambda x : np.sum(x['return']*x['wm_quant_vad']))\n",
    "ret2_blo=data5.groupby('date').apply(lambda x : np.sum(x['return']*x['wm_quant_blo']))"
   ]
  },
  {
   "cell_type": "code",
   "execution_count": 40,
   "metadata": {},
   "outputs": [],
   "source": [
    "ret2_bert=bert_data5.groupby('date').apply(lambda x : np.sum(x['return']*x['wm_quant_bert']))"
   ]
  },
  {
   "cell_type": "code",
   "execution_count": 41,
   "metadata": {},
   "outputs": [
    {
     "name": "stdout",
     "output_type": "stream",
     "text": [
      "-0.11918046538465382 0.12023641481680813 0.4728635861392332\n"
     ]
    }
   ],
   "source": [
    "print(ret2_vad.mean()*252,ret2_blo.mean()*252,ret2_bert.mean()*252)"
   ]
  },
  {
   "cell_type": "code",
   "execution_count": 42,
   "metadata": {},
   "outputs": [
    {
     "name": "stdout",
     "output_type": "stream",
     "text": [
      "0.17229956114245354 0.23372734950025828 0.1524622188091705\n"
     ]
    }
   ],
   "source": [
    "print(ret2_vad.std()*np.sqrt(252),ret2_blo.std()*np.sqrt(252),ret2_bert.std()*np.sqrt(252))"
   ]
  },
  {
   "cell_type": "code",
   "execution_count": 43,
   "metadata": {},
   "outputs": [
    {
     "data": {
      "text/plain": [
       "array([[1.        , 0.18966539],\n",
       "       [0.18966539, 1.        ]])"
      ]
     },
     "execution_count": 43,
     "metadata": {},
     "output_type": "execute_result"
    }
   ],
   "source": [
    "np.corrcoef(ret2_vad,ret2_blo)"
   ]
  },
  {
   "cell_type": "code",
   "execution_count": 44,
   "metadata": {},
   "outputs": [],
   "source": [
    "ret2_vad.name = 'ret2_vad'\n",
    "ret2_vad.reset_index()\n",
    "df=df.merge(ret2_vad,right_on='date',left_on='date',how='inner')\n",
    "model2vad=sm.OLS(df['ret2_vad'],df[['const','excess']]).fit()\n",
    "IR1_vad=model2vad.params[0]*252/(np.std(model2vad.resid.values)*np.sqrt(252))\n",
    "ret2_blo.name = 'ret2_blo'\n",
    "ret2_blo.reset_index()\n",
    "df=df.merge(ret2_blo,right_on='date',left_on='date',how='inner')\n",
    "model2blo=sm.OLS(df['ret2_blo'],df[['const','excess']]).fit()\n",
    "IR1_blo=model2blo.params[0]*252/(np.std(model2blo.resid.values)*np.sqrt(252))\n",
    "ret2_bert.name = 'ret2_bert'\n",
    "ret2_bert.reset_index()\n",
    "df1=df.merge(ret2_bert,right_on='date',left_on='date',how='inner')\n",
    "model2bert=sm.OLS(df1['ret2_bert'],df1[['const','excess']]).fit()\n",
    "IR1_bert=model2bert.params[0]*252/(np.std(model2bert.resid.values)*np.sqrt(252))"
   ]
  },
  {
   "cell_type": "code",
   "execution_count": 45,
   "metadata": {},
   "outputs": [
    {
     "name": "stdout",
     "output_type": "stream",
     "text": [
      "-0.7512649675658444 0.3159683404728313 3.127100701299324\n"
     ]
    }
   ],
   "source": [
    "\n",
    "print(IR1_vad,IR1_blo,IR1_bert)"
   ]
  },
  {
   "cell_type": "code",
   "execution_count": 46,
   "metadata": {},
   "outputs": [
    {
     "data": {
      "text/plain": [
       "<matplotlib.legend.Legend at 0x7fdc44840190>"
      ]
     },
     "execution_count": 46,
     "metadata": {},
     "output_type": "execute_result"
    },
    {
     "data": {
      "image/png": "[encoded data removed]",
      "text/plain": [
       "<Figure size 640x480 with 1 Axes>"
      ]
     },
     "metadata": {},
     "output_type": "display_data"
    }
   ],
   "source": [
    "plt.plot(ret2_blo,label='Textblob')\n",
    "plt.plot(ret2_vad,label='Vader')\n",
    "plt.plot(ret2_bert,label='BERT')\n",
    "plt.ylabel('Returns')\n",
    "plt.title('Group by stock and daily returns')\n",
    "plt.legend()"
   ]
  },
  {
   "attachments": {},
   "cell_type": "markdown",
   "metadata": {},
   "source": [
    "## Groupby industry and weekly returns"
   ]
  },
  {
   "cell_type": "code",
   "execution_count": 47,
   "metadata": {},
   "outputs": [
    {
     "name": "stdout",
     "output_type": "stream",
     "text": [
      "Retrieved data for MMM\n",
      "Retrieved data for AOS\n",
      "Retrieved data for ABT\n",
      "Retrieved data for ABBV\n",
      "Retrieved data for ACN\n",
      "Retrieved data for ATVI\n",
      "Retrieved data for ADM\n",
      "Retrieved data for ADBE\n",
      "Retrieved data for ADP\n",
      "Retrieved data for AAP\n",
      "Retrieved data for AES\n",
      "Retrieved data for AFL\n",
      "Retrieved data for A\n",
      "Retrieved data for APD\n",
      "Retrieved data for AKAM\n",
      "Retrieved data for ALK\n",
      "Retrieved data for ALB\n",
      "Retrieved data for ARE\n",
      "Retrieved data for ALGN\n",
      "Retrieved data for ALLE\n",
      "Retrieved data for LNT\n",
      "Retrieved data for ALL\n",
      "Retrieved data for GOOGL\n",
      "Retrieved data for GOOG\n",
      "Retrieved data for MO\n",
      "Retrieved data for AMZN\n",
      "Retrieved data for AMCR\n",
      "Retrieved data for AMD\n",
      "Retrieved data for AEE\n",
      "Retrieved data for AAL\n",
      "Retrieved data for AEP\n",
      "Retrieved data for AXP\n",
      "Retrieved data for AIG\n",
      "Retrieved data for AMT\n",
      "Retrieved data for AWK\n",
      "Retrieved data for AMP\n",
      "Retrieved data for ABC\n",
      "Retrieved data for AME\n",
      "Retrieved data for AMGN\n",
      "Retrieved data for APH\n",
      "Retrieved data for ADI\n",
      "Retrieved data for ANSS\n",
      "Retrieved data for AON\n",
      "Retrieved data for APA\n",
      "Retrieved data for AAPL\n",
      "Retrieved data for AMAT\n",
      "Retrieved data for APTV\n",
      "Retrieved data for ACGL\n",
      "Retrieved data for ANET\n",
      "Retrieved data for AJG\n",
      "Retrieved data for AIZ\n",
      "Retrieved data for T\n",
      "Retrieved data for ATO\n",
      "Retrieved data for ADSK\n",
      "Retrieved data for AZO\n",
      "Retrieved data for AVB\n",
      "Retrieved data for AVY\n",
      "Retrieved data for AXON\n",
      "Retrieved data for BKR\n",
      "Retrieved data for BALL\n",
      "Retrieved data for BAC\n",
      "Retrieved data for BBWI\n",
      "Retrieved data for BAX\n",
      "Retrieved data for BDX\n",
      "Retrieved data for WRB\n",
      "Got error from yahoo api for ticker BRK.B, Error: {'code': 'Not Found', 'description': 'No data found, symbol may be delisted'}\n",
      "- BRK.B: No timezone found, symbol may be delisted\n",
      "No data available for BRK.B\n",
      "Retrieved data for BBY\n",
      "Retrieved data for BIO\n",
      "Retrieved data for TECH\n",
      "Retrieved data for BIIB\n",
      "Retrieved data for BLK\n",
      "Retrieved data for BK\n",
      "Retrieved data for BA\n",
      "Retrieved data for BKNG\n",
      "Retrieved data for BWA\n",
      "Retrieved data for BXP\n",
      "Retrieved data for BSX\n",
      "Retrieved data for BMY\n",
      "Retrieved data for AVGO\n",
      "Retrieved data for BR\n",
      "Retrieved data for BRO\n",
      "BF.B: No data found for this date range, symbol may be delisted\n",
      "No data available for BF.B\n",
      "Retrieved data for BG\n",
      "Retrieved data for CHRW\n",
      "Retrieved data for CDNS\n",
      "Retrieved data for CZR\n",
      "Retrieved data for CPT\n",
      "Retrieved data for CPB\n",
      "Retrieved data for COF\n",
      "Retrieved data for CAH\n",
      "Retrieved data for KMX\n",
      "Retrieved data for CCL\n",
      "Retrieved data for CARR\n",
      "Retrieved data for CTLT\n",
      "Retrieved data for CAT\n",
      "Retrieved data for CBOE\n",
      "Retrieved data for CBRE\n",
      "Retrieved data for CDW\n",
      "Retrieved data for CE\n",
      "Retrieved data for CNC\n",
      "Retrieved data for CNP\n",
      "Retrieved data for CDAY\n",
      "Retrieved data for CF\n",
      "Retrieved data for CRL\n",
      "Retrieved data for SCHW\n",
      "Retrieved data for CHTR\n",
      "Retrieved data for CVX\n",
      "Retrieved data for CMG\n",
      "Retrieved data for CB\n",
      "Retrieved data for CHD\n",
      "Retrieved data for CI\n",
      "Retrieved data for CINF\n",
      "Retrieved data for CTAS\n",
      "Retrieved data for CSCO\n",
      "Retrieved data for C\n",
      "Retrieved data for CFG\n",
      "Retrieved data for CLX\n",
      "Retrieved data for CME\n",
      "Retrieved data for CMS\n",
      "Retrieved data for KO\n",
      "Retrieved data for CTSH\n",
      "Retrieved data for CL\n",
      "Retrieved data for CMCSA\n",
      "Retrieved data for CMA\n",
      "Retrieved data for CAG\n",
      "Retrieved data for COP\n",
      "Retrieved data for ED\n",
      "Retrieved data for STZ\n",
      "Retrieved data for CEG\n",
      "Retrieved data for COO\n",
      "Retrieved data for CPRT\n",
      "Retrieved data for GLW\n",
      "Retrieved data for CTVA\n",
      "Retrieved data for CSGP\n",
      "Retrieved data for COST\n",
      "Retrieved data for CTRA\n",
      "Retrieved data for CCI\n",
      "Retrieved data for CSX\n",
      "Retrieved data for CMI\n",
      "Retrieved data for CVS\n",
      "Retrieved data for DHI\n",
      "Retrieved data for DHR\n",
      "Retrieved data for DRI\n",
      "Retrieved data for DVA\n",
      "Retrieved data for DE\n",
      "Retrieved data for DAL\n",
      "Retrieved data for XRAY\n",
      "Retrieved data for DVN\n",
      "Retrieved data for DXCM\n",
      "Retrieved data for FANG\n",
      "Retrieved data for DLR\n",
      "Retrieved data for DFS\n",
      "Retrieved data for DISH\n",
      "Retrieved data for DIS\n",
      "Retrieved data for DG\n",
      "Retrieved data for DLTR\n",
      "Retrieved data for D\n",
      "Retrieved data for DPZ\n",
      "Retrieved data for DOV\n",
      "Retrieved data for DOW\n",
      "Retrieved data for DTE\n",
      "Retrieved data for DUK\n",
      "Retrieved data for DD\n",
      "Retrieved data for DXC\n",
      "Retrieved data for EMN\n",
      "Retrieved data for ETN\n",
      "Retrieved data for EBAY\n",
      "Retrieved data for ECL\n",
      "Retrieved data for EIX\n",
      "Retrieved data for EW\n",
      "Retrieved data for EA\n",
      "Retrieved data for ELV\n",
      "Retrieved data for LLY\n",
      "Retrieved data for EMR\n",
      "Retrieved data for ENPH\n",
      "Retrieved data for ETR\n",
      "Retrieved data for EOG\n",
      "Retrieved data for EPAM\n",
      "Retrieved data for EQT\n",
      "Retrieved data for EFX\n",
      "Retrieved data for EQIX\n",
      "Retrieved data for EQR\n",
      "Retrieved data for ESS\n",
      "Retrieved data for EL\n",
      "Retrieved data for ETSY\n",
      "Retrieved data for RE\n",
      "Retrieved data for EVRG\n",
      "Retrieved data for ES\n",
      "Retrieved data for EXC\n",
      "Retrieved data for EXPE\n",
      "Retrieved data for EXPD\n",
      "Retrieved data for EXR\n",
      "Retrieved data for XOM\n",
      "Retrieved data for FFIV\n",
      "Retrieved data for FDS\n",
      "Retrieved data for FICO\n",
      "Retrieved data for FAST\n",
      "Retrieved data for FRT\n",
      "Retrieved data for FDX\n",
      "Retrieved data for FITB\n",
      "Retrieved data for FSLR\n",
      "Retrieved data for FE\n",
      "Retrieved data for FIS\n",
      "Retrieved data for FISV\n",
      "Retrieved data for FLT\n",
      "Retrieved data for FMC\n",
      "Retrieved data for F\n",
      "Retrieved data for FTNT\n",
      "Retrieved data for FTV\n",
      "Retrieved data for FOXA\n",
      "Retrieved data for FOX\n",
      "Retrieved data for BEN\n",
      "Retrieved data for FCX\n",
      "Retrieved data for GRMN\n",
      "Retrieved data for IT\n",
      "Retrieved data for GEHC\n",
      "Retrieved data for GEN\n",
      "Retrieved data for GNRC\n",
      "Retrieved data for GD\n",
      "Retrieved data for GE\n",
      "Retrieved data for GIS\n",
      "Retrieved data for GM\n",
      "Retrieved data for GPC\n",
      "Retrieved data for GILD\n",
      "Retrieved data for GL\n",
      "Retrieved data for GPN\n",
      "Retrieved data for GS\n",
      "Retrieved data for HAL\n",
      "Retrieved data for HIG\n",
      "Retrieved data for HAS\n",
      "Retrieved data for HCA\n",
      "Retrieved data for PEAK\n",
      "Retrieved data for HSIC\n",
      "Retrieved data for HSY\n",
      "Retrieved data for HES\n",
      "Retrieved data for HPE\n",
      "Retrieved data for HLT\n",
      "Retrieved data for HOLX\n",
      "Retrieved data for HD\n",
      "Retrieved data for HON\n",
      "Retrieved data for HRL\n",
      "Retrieved data for HST\n",
      "Retrieved data for HWM\n",
      "Retrieved data for HPQ\n",
      "Retrieved data for HUM\n",
      "Retrieved data for HBAN\n",
      "Retrieved data for HII\n",
      "Retrieved data for IBM\n",
      "Retrieved data for IEX\n",
      "Retrieved data for IDXX\n",
      "Retrieved data for ITW\n",
      "Retrieved data for ILMN\n",
      "Retrieved data for INCY\n",
      "Retrieved data for IR\n",
      "Retrieved data for PODD\n",
      "Retrieved data for INTC\n",
      "Retrieved data for ICE\n",
      "Retrieved data for IFF\n",
      "Retrieved data for IP\n",
      "Retrieved data for IPG\n",
      "Retrieved data for INTU\n",
      "Retrieved data for ISRG\n",
      "Retrieved data for IVZ\n",
      "Retrieved data for INVH\n",
      "Retrieved data for IQV\n",
      "Retrieved data for IRM\n",
      "Retrieved data for JBHT\n",
      "Retrieved data for JKHY\n",
      "Retrieved data for J\n",
      "Retrieved data for JNJ\n",
      "Retrieved data for JCI\n",
      "Retrieved data for JPM\n",
      "Retrieved data for JNPR\n",
      "Retrieved data for K\n",
      "Retrieved data for KDP\n",
      "Retrieved data for KEY\n",
      "Retrieved data for KEYS\n",
      "Retrieved data for KMB\n",
      "Retrieved data for KIM\n",
      "Retrieved data for KMI\n",
      "Retrieved data for KLAC\n",
      "Retrieved data for KHC\n",
      "Retrieved data for KR\n",
      "Retrieved data for LHX\n",
      "Retrieved data for LH\n",
      "Retrieved data for LRCX\n",
      "Retrieved data for LW\n",
      "Retrieved data for LVS\n",
      "Retrieved data for LDOS\n",
      "Retrieved data for LEN\n",
      "Retrieved data for LNC\n",
      "Retrieved data for LIN\n",
      "Retrieved data for LYV\n",
      "Retrieved data for LKQ\n",
      "Retrieved data for LMT\n",
      "Retrieved data for L\n",
      "Retrieved data for LOW\n",
      "Retrieved data for LYB\n",
      "Retrieved data for MTB\n",
      "Retrieved data for MRO\n",
      "Retrieved data for MPC\n",
      "Retrieved data for MKTX\n",
      "Retrieved data for MAR\n",
      "Retrieved data for MMC\n",
      "Retrieved data for MLM\n",
      "Retrieved data for MAS\n",
      "Retrieved data for MA\n",
      "Retrieved data for MTCH\n",
      "Retrieved data for MKC\n",
      "Retrieved data for MCD\n",
      "Retrieved data for MCK\n",
      "Retrieved data for MDT\n",
      "Retrieved data for MRK\n",
      "Retrieved data for META\n",
      "Retrieved data for MET\n",
      "Retrieved data for MTD\n",
      "Retrieved data for MGM\n",
      "Retrieved data for MCHP\n",
      "Retrieved data for MU\n",
      "Retrieved data for MSFT\n",
      "Retrieved data for MAA\n",
      "Retrieved data for MRNA\n",
      "Retrieved data for MHK\n",
      "Retrieved data for MOH\n",
      "Retrieved data for TAP\n",
      "Retrieved data for MDLZ\n",
      "Retrieved data for MPWR\n",
      "Retrieved data for MNST\n",
      "Retrieved data for MCO\n",
      "Retrieved data for MS\n",
      "Retrieved data for MOS\n",
      "Retrieved data for MSI\n",
      "Retrieved data for MSCI\n",
      "Retrieved data for NDAQ\n",
      "Retrieved data for NTAP\n",
      "Retrieved data for NFLX\n",
      "Retrieved data for NWL\n",
      "Retrieved data for NEM\n",
      "Retrieved data for NWSA\n",
      "Retrieved data for NWS\n",
      "Retrieved data for NEE\n",
      "Retrieved data for NKE\n",
      "Retrieved data for NI\n",
      "Retrieved data for NDSN\n",
      "Retrieved data for NSC\n",
      "Retrieved data for NTRS\n",
      "Retrieved data for NOC\n",
      "Retrieved data for NCLH\n",
      "Retrieved data for NRG\n",
      "Retrieved data for NUE\n",
      "Retrieved data for NVDA\n",
      "Retrieved data for NVR\n",
      "Retrieved data for NXPI\n",
      "Retrieved data for ORLY\n",
      "Retrieved data for OXY\n",
      "Retrieved data for ODFL\n",
      "Retrieved data for OMC\n",
      "Retrieved data for ON\n",
      "Retrieved data for OKE\n",
      "Retrieved data for ORCL\n",
      "Retrieved data for OGN\n",
      "Retrieved data for OTIS\n",
      "Retrieved data for PCAR\n",
      "Retrieved data for PKG\n",
      "Retrieved data for PARA\n",
      "Retrieved data for PH\n",
      "Retrieved data for PAYX\n",
      "Retrieved data for PAYC\n",
      "Retrieved data for PYPL\n",
      "Retrieved data for PNR\n",
      "Retrieved data for PEP\n",
      "Retrieved data for PFE\n",
      "Retrieved data for PCG\n",
      "Retrieved data for PM\n",
      "Retrieved data for PSX\n",
      "Retrieved data for PNW\n",
      "Retrieved data for PXD\n",
      "Retrieved data for PNC\n",
      "Retrieved data for POOL\n",
      "Retrieved data for PPG\n",
      "Retrieved data for PPL\n",
      "Retrieved data for PFG\n",
      "Retrieved data for PG\n",
      "Retrieved data for PGR\n",
      "Retrieved data for PLD\n",
      "Retrieved data for PRU\n",
      "Retrieved data for PEG\n",
      "Retrieved data for PTC\n",
      "Retrieved data for PSA\n",
      "Retrieved data for PHM\n",
      "Retrieved data for QRVO\n",
      "Retrieved data for PWR\n",
      "Retrieved data for QCOM\n",
      "Retrieved data for DGX\n",
      "Retrieved data for RL\n",
      "Retrieved data for RJF\n",
      "Retrieved data for RTX\n",
      "Retrieved data for O\n",
      "Retrieved data for REG\n",
      "Retrieved data for REGN\n",
      "Retrieved data for RF\n",
      "Retrieved data for RSG\n",
      "Retrieved data for RMD\n",
      "Retrieved data for RVTY\n",
      "Retrieved data for RHI\n",
      "Retrieved data for ROK\n",
      "Retrieved data for ROL\n",
      "Retrieved data for ROP\n",
      "Retrieved data for ROST\n",
      "Retrieved data for RCL\n",
      "Retrieved data for SPGI\n",
      "Retrieved data for CRM\n",
      "Retrieved data for SBAC\n",
      "Retrieved data for SLB\n",
      "Retrieved data for STX\n",
      "Retrieved data for SEE\n",
      "Retrieved data for SRE\n",
      "Retrieved data for NOW\n",
      "Retrieved data for SHW\n",
      "Retrieved data for SPG\n",
      "Retrieved data for SWKS\n",
      "Retrieved data for SJM\n",
      "Retrieved data for SNA\n",
      "Retrieved data for SEDG\n",
      "Retrieved data for SO\n",
      "Retrieved data for LUV\n",
      "Retrieved data for SWK\n",
      "Retrieved data for SBUX\n",
      "Retrieved data for STT\n",
      "Retrieved data for STLD\n",
      "Retrieved data for STE\n",
      "Retrieved data for SYK\n",
      "Retrieved data for SYF\n",
      "Retrieved data for SNPS\n",
      "Retrieved data for SYY\n",
      "Retrieved data for TMUS\n",
      "Retrieved data for TROW\n",
      "Retrieved data for TTWO\n",
      "Retrieved data for TPR\n",
      "Retrieved data for TRGP\n",
      "Retrieved data for TGT\n",
      "Retrieved data for TEL\n",
      "Retrieved data for TDY\n",
      "Retrieved data for TFX\n",
      "Retrieved data for TER\n",
      "Retrieved data for TSLA\n",
      "Retrieved data for TXN\n",
      "Retrieved data for TXT\n",
      "Retrieved data for TMO\n",
      "Retrieved data for TJX\n",
      "Retrieved data for TSCO\n",
      "Retrieved data for TT\n",
      "Retrieved data for TDG\n",
      "Retrieved data for TRV\n",
      "Retrieved data for TRMB\n",
      "Retrieved data for TFC\n",
      "Retrieved data for TYL\n",
      "Retrieved data for TSN\n",
      "Retrieved data for USB\n",
      "Retrieved data for UDR\n",
      "Retrieved data for ULTA\n",
      "Retrieved data for UNP\n",
      "Retrieved data for UAL\n",
      "Retrieved data for UPS\n",
      "Retrieved data for URI\n",
      "Retrieved data for UNH\n",
      "Retrieved data for UHS\n",
      "Retrieved data for VLO\n",
      "Retrieved data for VTR\n",
      "Retrieved data for VRSN\n",
      "Retrieved data for VRSK\n",
      "Retrieved data for VZ\n",
      "Retrieved data for VRTX\n",
      "Retrieved data for VFC\n",
      "Retrieved data for VTRS\n",
      "Retrieved data for VICI\n",
      "Retrieved data for V\n",
      "Retrieved data for VMC\n",
      "Retrieved data for WAB\n",
      "Retrieved data for WBA\n",
      "Retrieved data for WMT\n",
      "Retrieved data for WBD\n",
      "Retrieved data for WM\n",
      "Retrieved data for WAT\n",
      "Retrieved data for WEC\n",
      "Retrieved data for WFC\n",
      "Retrieved data for WELL\n",
      "Retrieved data for WST\n",
      "Retrieved data for WDC\n",
      "Retrieved data for WRK\n",
      "Retrieved data for WY\n",
      "Retrieved data for WHR\n",
      "Retrieved data for WMB\n",
      "Retrieved data for WTW\n",
      "Retrieved data for GWW\n",
      "Retrieved data for WYNN\n",
      "Retrieved data for XEL\n",
      "Retrieved data for XYL\n",
      "Retrieved data for YUM\n",
      "Retrieved data for ZBRA\n",
      "Retrieved data for ZBH\n",
      "Retrieved data for ZION\n",
      "Retrieved data for ZTS\n"
     ]
    }
   ],
   "source": [
    "# Get list of tickers for S&P 500 stocks\n",
    "table = pd.read_html('https://en.wikipedia.org/wiki/List_of_S%26P_500_companies')\n",
    "df = table[0]\n",
    "tickers = df['Symbol'].tolist()\n",
    "end_date = datetime.strptime('2023-05-08', '%Y-%m-%d')\n",
    "start_date = datetime.strptime('2022-05-07', '%Y-%m-%d')\n",
    "data = []\n",
    "\n",
    "for ticker in tickers:\n",
    "    try:\n",
    "        # Fetch historical data for the ticker\n",
    "        stock = yf.Ticker(ticker)\n",
    "        history = stock.history(start=start_date, end=end_date)\n",
    "\n",
    "        if not history.empty:\n",
    "            # Calculate daily returns\n",
    "            history['Return'] = history['Close'] / history['Close'].shift(1) - 1\n",
    "\n",
    "            # Iterate over each row of historical data\n",
    "            for index, row in history.iterrows():\n",
    "                #dates of the returns are already shifted back, in this case by a week, \n",
    "                #because we want to use them for comments of the week before\n",
    "                date = pd.to_datetime(index.strftime('%Y-%m-%d'))-timedelta(days=7)\n",
    "                stock_return = row['Return']\n",
    "                data.append([date, ticker, stock_return])\n",
    "\n",
    "            print(f\"Retrieved data for {ticker}\")\n",
    "        else:\n",
    "            print(f\"No data available for {ticker}\")\n",
    "    except:\n",
    "        print(f\"Error retrieving data for {ticker}\")\n",
    "\n",
    "df = pd.DataFrame(data, columns=['date', 'ticker', 'return'])\n",
    "\n",
    "df['date']=pd.to_datetime(df['date'])\n",
    "df=df.dropna()"
   ]
  },
  {
   "cell_type": "code",
   "execution_count": 48,
   "metadata": {},
   "outputs": [],
   "source": [
    "#Then we use the same appoach as before for the case of daily return and grouping by industry\n",
    "#but this time with weekly returns\n",
    "data2=pd.merge(weights,data1, on=\"ticker\", how=\"right\")\n",
    "data=pd.merge(df,data2,on=['ticker','date'],how='right')\n",
    "data=data.dropna()"
   ]
  },
  {
   "cell_type": "code",
   "execution_count": 49,
   "metadata": {},
   "outputs": [],
   "source": [
    "bert_data2=pd.merge(weights,bert_data1, on=\"ticker\", how=\"right\")\n",
    "bert_data=pd.merge(df,bert_data2,on=['ticker','date'],how='right')\n",
    "bert_data=bert_data.dropna()"
   ]
  },
  {
   "cell_type": "code",
   "execution_count": 50,
   "metadata": {},
   "outputs": [],
   "source": [
    "data.set_index('date',inplace=True)\n",
    "#transform to log returns\n",
    "data['return']=np.log(1+data['return'])"
   ]
  },
  {
   "cell_type": "code",
   "execution_count": 51,
   "metadata": {},
   "outputs": [],
   "source": [
    "bert_data.set_index('date',inplace=True)\n",
    "#transform to log returns\n",
    "bert_data['return']=np.log(1+bert_data['return'])"
   ]
  },
  {
   "cell_type": "code",
   "execution_count": 52,
   "metadata": {},
   "outputs": [],
   "source": [
    "avg_vad_score=data.groupby([pd.Grouper(freq='W'),'ticker']).apply(lambda x: x['c_vader'].mean()).reset_index()\n",
    "avg_blo_score=data.groupby([pd.Grouper(freq='W'),'ticker']).apply(lambda x: x['c_textb'].mean()).reset_index()\n",
    "ret_stock=data.groupby([pd.Grouper(freq='W'),'ticker']).apply(lambda x: x['return'].sum()).reset_index()\n",
    "w_stock=data.groupby([pd.Grouper(freq='W'),'ticker']).apply(lambda x: x['Weight'].mean()).reset_index()"
   ]
  },
  {
   "cell_type": "code",
   "execution_count": 53,
   "metadata": {},
   "outputs": [],
   "source": [
    "avg_bert_score=bert_data.groupby([pd.Grouper(freq='W'),'ticker']).apply(lambda x: x['sentiment'].mean()).reset_index()\n",
    "bert_ret_stock=bert_data.groupby([pd.Grouper(freq='W'),'ticker']).apply(lambda x: x['return'].sum()).reset_index()\n",
    "bert_w_stock=bert_data.groupby([pd.Grouper(freq='W'),'ticker']).apply(lambda x: x['Weight'].mean()).reset_index()"
   ]
  },
  {
   "cell_type": "code",
   "execution_count": 54,
   "metadata": {},
   "outputs": [],
   "source": [
    "avg_vad_score.rename(columns={0:'vad_score'},inplace=True)\n",
    "avg_blo_score.rename(columns={0:'blo_score'},inplace=True)\n",
    "ret_stock.rename(columns={0:'return'},inplace=True)\n",
    "w_stock.rename(columns={0:'Weight'},inplace=True)"
   ]
  },
  {
   "cell_type": "code",
   "execution_count": 55,
   "metadata": {},
   "outputs": [],
   "source": [
    "avg_bert_score.rename(columns={0:'bert_score'},inplace=True)\n",
    "bert_ret_stock.rename(columns={0:'return'},inplace=True)\n",
    "bert_w_stock.rename(columns={0:'Weight'},inplace=True)"
   ]
  },
  {
   "cell_type": "code",
   "execution_count": 56,
   "metadata": {},
   "outputs": [],
   "source": [
    "#transform back from log returns to regular returns\n",
    "ret_stock['return']=np.exp(ret_stock['return'])-1"
   ]
  },
  {
   "cell_type": "code",
   "execution_count": 57,
   "metadata": {},
   "outputs": [],
   "source": [
    "bert_ret_stock['return']=np.exp(bert_ret_stock['return'])-1"
   ]
  },
  {
   "cell_type": "code",
   "execution_count": 58,
   "metadata": {},
   "outputs": [],
   "source": [
    "data6=pd.merge(avg_vad_score,avg_blo_score)\n",
    "data6=pd.merge(data6,ret_stock)\n",
    "data6=pd.merge(data6,w_stock)\n"
   ]
  },
  {
   "cell_type": "code",
   "execution_count": 59,
   "metadata": {},
   "outputs": [],
   "source": [
    "bert_data6=pd.merge(avg_bert_score,bert_ret_stock)\n",
    "bert_data6=pd.merge(bert_data6,bert_w_stock)"
   ]
  },
  {
   "cell_type": "code",
   "execution_count": 60,
   "metadata": {},
   "outputs": [],
   "source": [
    "data6[\"vad_quant_up\"] = data6.groupby(['date'])['vad_score'].transform(lambda x: x.quantile(0.9))\n",
    "data6[\"vad_quant_down\"] = data6.groupby(['date'])['vad_score'].transform(lambda x: x.quantile(0.1))\n",
    "data6[\"blo_quant_up\"] = data6.groupby(['date'])['blo_score'].transform(lambda x: x.quantile(0.9))\n",
    "data6[\"blo_quant_down\"] = data6.groupby(['date'])['blo_score'].transform(lambda x: x.quantile(0.1))"
   ]
  },
  {
   "cell_type": "code",
   "execution_count": 61,
   "metadata": {},
   "outputs": [],
   "source": [
    "bert_data6[\"bert_quant_up\"] = bert_data6.groupby(['date'])['bert_score'].transform(lambda x: x.quantile(0.9))\n",
    "bert_data6[\"bert_quant_down\"] = bert_data6.groupby(['date'])['bert_score'].transform(lambda x: x.quantile(0.1))\n"
   ]
  },
  {
   "cell_type": "code",
   "execution_count": 62,
   "metadata": {},
   "outputs": [
    {
     "name": "stderr",
     "output_type": "stream",
     "text": [
      "/var/folders/xm/v8rw_rk978q4m456yhl9rn_c0000gn/T/ipykernel_39448/1081382571.py:3: SettingWithCopyWarning: \n",
      "A value is trying to be set on a copy of a slice from a DataFrame\n",
      "\n",
      "See the caveats in the documentation: https://pandas.pydata.org/pandas-docs/stable/user_guide/indexing.html#returning-a-view-versus-a-copy\n",
      "  data6['up_down_vad'][data6['vad_score']>=data6['vad_quant_up']]=1\n",
      "/var/folders/xm/v8rw_rk978q4m456yhl9rn_c0000gn/T/ipykernel_39448/1081382571.py:4: SettingWithCopyWarning: \n",
      "A value is trying to be set on a copy of a slice from a DataFrame\n",
      "\n",
      "See the caveats in the documentation: https://pandas.pydata.org/pandas-docs/stable/user_guide/indexing.html#returning-a-view-versus-a-copy\n",
      "  data6['up_down_vad'][data6['vad_score']<=data6['vad_quant_down']]=-1\n",
      "/var/folders/xm/v8rw_rk978q4m456yhl9rn_c0000gn/T/ipykernel_39448/1081382571.py:5: SettingWithCopyWarning: \n",
      "A value is trying to be set on a copy of a slice from a DataFrame\n",
      "\n",
      "See the caveats in the documentation: https://pandas.pydata.org/pandas-docs/stable/user_guide/indexing.html#returning-a-view-versus-a-copy\n",
      "  data6['up_down_blo'][data6['blo_score']>=data6['blo_quant_up']]=1\n",
      "/var/folders/xm/v8rw_rk978q4m456yhl9rn_c0000gn/T/ipykernel_39448/1081382571.py:6: SettingWithCopyWarning: \n",
      "A value is trying to be set on a copy of a slice from a DataFrame\n",
      "\n",
      "See the caveats in the documentation: https://pandas.pydata.org/pandas-docs/stable/user_guide/indexing.html#returning-a-view-versus-a-copy\n",
      "  data6['up_down_blo'][data6['blo_score']<=data6['blo_quant_down']]=-1\n"
     ]
    }
   ],
   "source": [
    "data6['up_down_vad']=0\n",
    "data6['up_down_blo']=0\n",
    "data6['up_down_vad'][data6['vad_score']>=data6['vad_quant_up']]=1\n",
    "data6['up_down_vad'][data6['vad_score']<=data6['vad_quant_down']]=-1\n",
    "data6['up_down_blo'][data6['blo_score']>=data6['blo_quant_up']]=1\n",
    "data6['up_down_blo'][data6['blo_score']<=data6['blo_quant_down']]=-1"
   ]
  },
  {
   "cell_type": "code",
   "execution_count": 63,
   "metadata": {},
   "outputs": [
    {
     "name": "stderr",
     "output_type": "stream",
     "text": [
      "/var/folders/xm/v8rw_rk978q4m456yhl9rn_c0000gn/T/ipykernel_39448/3960614919.py:2: SettingWithCopyWarning: \n",
      "A value is trying to be set on a copy of a slice from a DataFrame\n",
      "\n",
      "See the caveats in the documentation: https://pandas.pydata.org/pandas-docs/stable/user_guide/indexing.html#returning-a-view-versus-a-copy\n",
      "  bert_data6['up_down_bert'][bert_data6['bert_score']>=bert_data6['bert_quant_up']]=1\n",
      "/var/folders/xm/v8rw_rk978q4m456yhl9rn_c0000gn/T/ipykernel_39448/3960614919.py:3: SettingWithCopyWarning: \n",
      "A value is trying to be set on a copy of a slice from a DataFrame\n",
      "\n",
      "See the caveats in the documentation: https://pandas.pydata.org/pandas-docs/stable/user_guide/indexing.html#returning-a-view-versus-a-copy\n",
      "  bert_data6['up_down_bert'][bert_data6['bert_score']<=bert_data6['bert_quant_down']]=-1\n"
     ]
    }
   ],
   "source": [
    "bert_data6['up_down_bert']=0\n",
    "bert_data6['up_down_bert'][bert_data6['bert_score']>=bert_data6['bert_quant_up']]=1\n",
    "bert_data6['up_down_bert'][bert_data6['bert_score']<=bert_data6['bert_quant_down']]=-1"
   ]
  },
  {
   "cell_type": "code",
   "execution_count": 64,
   "metadata": {},
   "outputs": [],
   "source": [
    "data6['wm_quant_vad'] = data6['Weight']*data6['up_down_vad']/data6.groupby(['date','up_down_vad'])['Weight'].transform('sum') #make weights sum up to 1 in top and bottom quantile\n",
    "data6['wm_quant_blo'] = data6['Weight']*data6['up_down_blo']/data6.groupby(['date','up_down_blo'])['Weight'].transform('sum')"
   ]
  },
  {
   "cell_type": "code",
   "execution_count": 65,
   "metadata": {},
   "outputs": [],
   "source": [
    "bert_data6['wm_quant_bert'] = bert_data6['Weight']*bert_data6['up_down_bert']/bert_data6.groupby(['date','up_down_bert'])['Weight'].transform('sum')"
   ]
  },
  {
   "cell_type": "code",
   "execution_count": 66,
   "metadata": {},
   "outputs": [],
   "source": [
    "ret3_vad=data6.groupby('date').apply(lambda x : np.sum(x['return']*x['wm_quant_vad']))\n",
    "ret3_blo=data6.groupby('date').apply(lambda x : np.sum(x['return']*x['wm_quant_blo']))\n",
    "ret3_bert=bert_data6.groupby('date').apply(lambda x : np.sum(x['return']*x['wm_quant_bert']))"
   ]
  },
  {
   "cell_type": "code",
   "execution_count": 67,
   "metadata": {},
   "outputs": [
    {
     "name": "stdout",
     "output_type": "stream",
     "text": [
      "0.003183663703720382 -0.3124470796723541 -0.27407788667631827\n"
     ]
    }
   ],
   "source": [
    "print(ret3_vad.mean()*52,ret3_blo.mean()*52,ret3_bert.mean()*52)"
   ]
  },
  {
   "cell_type": "code",
   "execution_count": 68,
   "metadata": {},
   "outputs": [
    {
     "name": "stdout",
     "output_type": "stream",
     "text": [
      "0.12600520595740117 0.30101312338019426 0.22751852076144596\n"
     ]
    }
   ],
   "source": [
    "print(ret3_vad.std()*np.sqrt(52),ret3_blo.std()*np.sqrt(52),ret3_bert.std()*np.sqrt(52))"
   ]
  },
  {
   "cell_type": "code",
   "execution_count": 69,
   "metadata": {},
   "outputs": [
    {
     "data": {
      "text/plain": [
       "array([[ 1.        , -0.12564547],\n",
       "       [-0.12564547,  1.        ]])"
      ]
     },
     "execution_count": 69,
     "metadata": {},
     "output_type": "execute_result"
    }
   ],
   "source": [
    "np.corrcoef(ret3_vad,ret3_blo)"
   ]
  },
  {
   "cell_type": "code",
   "execution_count": 70,
   "metadata": {},
   "outputs": [
    {
     "data": {
      "text/plain": [
       "<matplotlib.legend.Legend at 0x7fdc44840760>"
      ]
     },
     "execution_count": 70,
     "metadata": {},
     "output_type": "execute_result"
    },
    {
     "data": {
      "image/png": "[encoded data removed]",
      "text/plain": [
       "<Figure size 640x480 with 1 Axes>"
      ]
     },
     "metadata": {},
     "output_type": "display_data"
    }
   ],
   "source": [
    "plt.plot(ret3_blo,label='Textblob')\n",
    "plt.plot(ret3_vad,label='Vader')\n",
    "plt.plot(ret3_bert,label='BERT')\n",
    "plt.ylabel('Returns')\n",
    "plt.title('Group by industry and weekly returns')\n",
    "plt.legend()"
   ]
  },
  {
   "attachments": {},
   "cell_type": "markdown",
   "metadata": {},
   "source": [
    "Plot has less high or low return. maybe in this way we can't exploit that some days with high daily returns investing in it and other days with low returns shorting that stocks"
   ]
  },
  {
   "attachments": {},
   "cell_type": "markdown",
   "metadata": {},
   "source": [
    "On the other hand using daily we would have much higher trading costs"
   ]
  },
  {
   "attachments": {},
   "cell_type": "markdown",
   "metadata": {},
   "source": [
    "## Daily returns and long or short the s&p500"
   ]
  },
  {
   "cell_type": "code",
   "execution_count": 71,
   "metadata": {},
   "outputs": [
    {
     "name": "stdout",
     "output_type": "stream",
     "text": [
      "[*********************100%***********************]  1 of 1 completed\n"
     ]
    },
    {
     "name": "stderr",
     "output_type": "stream",
     "text": [
      "/var/folders/xm/v8rw_rk978q4m456yhl9rn_c0000gn/T/ipykernel_39448/2334364387.py:25: SettingWithCopyWarning: \n",
      "A value is trying to be set on a copy of a slice from a DataFrame.\n",
      "Try using .loc[row_indexer,col_indexer] = value instead\n",
      "\n",
      "See the caveats in the documentation: https://pandas.pydata.org/pandas-docs/stable/user_guide/indexing.html#returning-a-view-versus-a-copy\n",
      "  df['date']=pd.to_datetime(df['date'])\n",
      "/var/folders/xm/v8rw_rk978q4m456yhl9rn_c0000gn/T/ipykernel_39448/2334364387.py:36: SettingWithCopyWarning: \n",
      "A value is trying to be set on a copy of a slice from a DataFrame\n",
      "\n",
      "See the caveats in the documentation: https://pandas.pydata.org/pandas-docs/stable/user_guide/indexing.html#returning-a-view-versus-a-copy\n",
      "  df['date'][i] = df['date'][i]-timedelta(days=1)\n",
      "/var/folders/xm/v8rw_rk978q4m456yhl9rn_c0000gn/T/ipykernel_39448/2334364387.py:34: SettingWithCopyWarning: \n",
      "A value is trying to be set on a copy of a slice from a DataFrame\n",
      "\n",
      "See the caveats in the documentation: https://pandas.pydata.org/pandas-docs/stable/user_guide/indexing.html#returning-a-view-versus-a-copy\n",
      "  df['date'][i] = df['date'][i]-timedelta(days=3)\n"
     ]
    }
   ],
   "source": [
    "import pandas_datareader.data as web\n",
    "\n",
    "#Download the T-Bill data from the U.S. Department of the Treasury to use as risk-free rate\n",
    "tbill=web.DataReader('TB3MS', 'fred', '2022-05-07', '2023-05-08')\n",
    "#Forward fill the data if the values are missing for some dates\n",
    "tbill=tbill.resample('D').ffill()\n",
    "\n",
    "idx = pd.date_range(start=tbill.index.min(), end='2023-05-08')\n",
    "tbill = tbill.reindex(idx)\n",
    "\n",
    "tbill = tbill.fillna(method='ffill')\n",
    "\n",
    "tbill.reset_index(inplace=True)\n",
    "tbill.rename(columns={'index': 'date'}, inplace=True)\n",
    "\n",
    "#Download the S&P 500 data from Yahoo Finance\n",
    "sp500=yf.download('^GSPC', '2022-05-07', '2023-05-08')\n",
    "\n",
    "sp500['return']=sp500['Close'].pct_change()\n",
    "\n",
    "sp500.reset_index(inplace=True)\n",
    "sp500.rename(columns={'Date': 'date'}, inplace=True)\n",
    "\n",
    "df=sp500[['date', 'return']]\n",
    "df['date']=pd.to_datetime(df['date'])\n",
    "df=pd.merge(df,tbill)\n",
    "df['date']=pd.to_datetime(df['date'])\n",
    "\n",
    "#Dates of the returns are already shifted back because we want to use them with comments of the day before.\n",
    "#Monday returns are shifted back to the previous friday and they will be used with comments of friday,\n",
    "#Saturday and Sunday \n",
    "for i in range(len(df['date'])):\n",
    "    if df['date'][i].weekday()==0:\n",
    "        df['date'][i] = df['date'][i]-timedelta(days=3)\n",
    "    else:\n",
    "        df['date'][i] = df['date'][i]-timedelta(days=1)\n",
    "\n",
    "#make risk free rate daily\n",
    "df['TB3MS']=df['TB3MS']/(252*100)\n",
    "df['excess']=df['return']-df['TB3MS']"
   ]
  },
  {
   "cell_type": "code",
   "execution_count": 72,
   "metadata": {},
   "outputs": [],
   "source": [
    "#Compute the average score of all the stocks in a given day\n",
    "avg_vad_score=data1.groupby('date').apply(lambda x : x['c_vader'].mean()).reset_index()\n",
    "avg_blo_score=data.groupby('date').apply(lambda x : x['c_textb'].mean()).reset_index()\n",
    "avg_bert_score=bert_data1.groupby('date').apply(lambda x : x['sentiment'].mean()).reset_index()"
   ]
  },
  {
   "cell_type": "code",
   "execution_count": 73,
   "metadata": {},
   "outputs": [],
   "source": [
    "avg_vad_score.rename(columns={0:'vad_score'},inplace=True)\n",
    "avg_blo_score.rename(columns={0:'blo_score'},inplace=True)\n",
    "avg_bert_score.rename(columns={0:'bert_score'},inplace=True)"
   ]
  },
  {
   "cell_type": "code",
   "execution_count": 74,
   "metadata": {},
   "outputs": [],
   "source": [
    "data7=pd.merge(avg_blo_score,avg_vad_score)\n",
    "data7=pd.merge(data7,df)\n",
    "data7=data7.dropna()"
   ]
  },
  {
   "cell_type": "code",
   "execution_count": 75,
   "metadata": {},
   "outputs": [],
   "source": [
    "bert_data7=pd.merge(avg_bert_score,df)\n",
    "bert_data7=bert_data7.dropna()"
   ]
  },
  {
   "cell_type": "code",
   "execution_count": 76,
   "metadata": {},
   "outputs": [],
   "source": [
    "mean_vad=data7['vad_score'].mean()\n",
    "mean_blo=data7['blo_score'].mean()\n",
    "mean_bert=bert_data7['bert_score'].mean()"
   ]
  },
  {
   "cell_type": "code",
   "execution_count": 77,
   "metadata": {},
   "outputs": [
    {
     "name": "stderr",
     "output_type": "stream",
     "text": [
      "/var/folders/xm/v8rw_rk978q4m456yhl9rn_c0000gn/T/ipykernel_39448/957908702.py:5: SettingWithCopyWarning: \n",
      "A value is trying to be set on a copy of a slice from a DataFrame\n",
      "\n",
      "See the caveats in the documentation: https://pandas.pydata.org/pandas-docs/stable/user_guide/indexing.html#returning-a-view-versus-a-copy\n",
      "  data7['long_short_vad'][data7['vad_score']<=mean_vad]=-1\n",
      "/var/folders/xm/v8rw_rk978q4m456yhl9rn_c0000gn/T/ipykernel_39448/957908702.py:6: SettingWithCopyWarning: \n",
      "A value is trying to be set on a copy of a slice from a DataFrame\n",
      "\n",
      "See the caveats in the documentation: https://pandas.pydata.org/pandas-docs/stable/user_guide/indexing.html#returning-a-view-versus-a-copy\n",
      "  data7['long_short_blo'][data7['blo_score']<=mean_blo]=-1\n"
     ]
    }
   ],
   "source": [
    "#We add a column that is 1 if the score of that day is higher than the average one on the entire period\n",
    "#and -1 if it is lower\n",
    "data7['long_short_vad']=1\n",
    "data7['long_short_blo']=1\n",
    "data7['long_short_vad'][data7['vad_score']<=mean_vad]=-1\n",
    "data7['long_short_blo'][data7['blo_score']<=mean_blo]=-1"
   ]
  },
  {
   "cell_type": "code",
   "execution_count": 78,
   "metadata": {},
   "outputs": [
    {
     "name": "stderr",
     "output_type": "stream",
     "text": [
      "/var/folders/xm/v8rw_rk978q4m456yhl9rn_c0000gn/T/ipykernel_39448/3476319249.py:2: SettingWithCopyWarning: \n",
      "A value is trying to be set on a copy of a slice from a DataFrame\n",
      "\n",
      "See the caveats in the documentation: https://pandas.pydata.org/pandas-docs/stable/user_guide/indexing.html#returning-a-view-versus-a-copy\n",
      "  bert_data7['long_short_bert'][bert_data7['bert_score']<=mean_bert]=-1\n"
     ]
    }
   ],
   "source": [
    "bert_data7['long_short_bert']=1\n",
    "bert_data7['long_short_bert'][bert_data7['bert_score']<=mean_bert]=-1"
   ]
  },
  {
   "cell_type": "code",
   "execution_count": 79,
   "metadata": {},
   "outputs": [],
   "source": [
    "#We compute the return of a strategy that goes long the s&p500 shorting the risk free if the day before the \n",
    "#avarage score across all stocks is higher that the avarage score over the period and that short the s&p500 \n",
    "#investing in the risk free asset otherwise \n",
    "data7['ret4_vad']=data7['long_short_vad']*data7['excess']\n",
    "data7['ret4_blo']=data7['long_short_blo']*data7['excess']\n",
    "ret4_bert=bert_data7['long_short_bert']*bert_data7['excess']\n",
    "ret4_bert.index=167+ret4_bert.index"
   ]
  },
  {
   "cell_type": "code",
   "execution_count": 80,
   "metadata": {},
   "outputs": [
    {
     "name": "stdout",
     "output_type": "stream",
     "text": [
      "0.13990899418717115 0.2789705818204282 -0.4104797435447845\n"
     ]
    }
   ],
   "source": [
    "print(data7['ret4_vad'].mean()*252,data7['ret4_blo'].mean()*252,ret4_bert.mean()*252)"
   ]
  },
  {
   "cell_type": "code",
   "execution_count": 81,
   "metadata": {},
   "outputs": [
    {
     "name": "stdout",
     "output_type": "stream",
     "text": [
      "0.21785083377797998 0.21731724290544588 0.15086162010850676\n"
     ]
    }
   ],
   "source": [
    "print(data7['ret4_vad'].std()*np.sqrt(252),data7['ret4_blo'].std()*np.sqrt(252),ret4_bert.std()*np.sqrt(252))"
   ]
  },
  {
   "cell_type": "code",
   "execution_count": 82,
   "metadata": {},
   "outputs": [
    {
     "data": {
      "text/plain": [
       "array([[1.        , 0.16007032],\n",
       "       [0.16007032, 1.        ]])"
      ]
     },
     "execution_count": 82,
     "metadata": {},
     "output_type": "execute_result"
    }
   ],
   "source": [
    "np.corrcoef(data7['ret4_vad'],data7['ret4_blo'])"
   ]
  },
  {
   "cell_type": "code",
   "execution_count": 83,
   "metadata": {},
   "outputs": [],
   "source": [
    "data7['const']=1\n",
    "model4vad=sm.OLS(data7['ret4_vad'],data7[['const','excess']]).fit()\n",
    "IR3_vad=model4vad.params[0]*252/(np.std(model4vad.resid.values)*np.sqrt(252))\n",
    "model4blo=sm.OLS(data7['ret4_blo'],data7[['const','excess']]).fit()\n",
    "IR3_blo=model4blo.params[0]*252/(np.std(model4blo.resid.values)*np.sqrt(252))\n"
   ]
  },
  {
   "cell_type": "code",
   "execution_count": 84,
   "metadata": {},
   "outputs": [
    {
     "name": "stdout",
     "output_type": "stream",
     "text": [
      "0.6471510157489678 1.3028716017984587\n"
     ]
    }
   ],
   "source": [
    "print(IR3_vad,IR3_blo)"
   ]
  },
  {
   "cell_type": "code",
   "execution_count": 85,
   "metadata": {},
   "outputs": [
    {
     "data": {
      "text/plain": [
       "<matplotlib.legend.Legend at 0x7fdc45b81d60>"
      ]
     },
     "execution_count": 85,
     "metadata": {},
     "output_type": "execute_result"
    },
    {
     "data": {
      "image/png": "[encoded data removed]",
      "text/plain": [
       "<Figure size 640x480 with 1 Axes>"
      ]
     },
     "metadata": {},
     "output_type": "display_data"
    }
   ],
   "source": [
    "plt.plot(data7['ret4_blo'],label='Textblob')\n",
    "plt.plot(data7['ret4_vad'],label='Vader')\n",
    "plt.title('Daily long-short s&p500')\n",
    "plt.xlabel('Trading days in last year')\n",
    "plt.ylabel('Returns')\n",
    "plt.plot(ret4_bert,label='BERT')\n",
    "plt.legend()"
   ]
  }
 ],
 "metadata": {
  "kernelspec": {
   "display_name": "base",
   "language": "python",
   "name": "python3"
  },
  "language_info": {
   "codemirror_mode": {
    "name": "ipython",
    "version": 3
   },
   "file_extension": ".py",
   "mimetype": "text/x-python",
   "name": "python",
   "nbconvert_exporter": "python",
   "pygments_lexer": "ipython3",
   "version": "3.9.13"
  },
  "orig_nbformat": 4
 },
 "nbformat": 4,
 "nbformat_minor": 2
}
